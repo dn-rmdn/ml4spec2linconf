{
 "cells": [
  {
   "cell_type": "markdown",
   "id": "81f8960d",
   "metadata": {},
   "source": [
    "# Identifying Nanoparticles Aggregate from Its Scattering Spectra with Machine Learning"
   ]
  },
  {
   "cell_type": "code",
   "execution_count": 1,
   "id": "3b55279f",
   "metadata": {},
   "outputs": [],
   "source": [
    "from pandas import read_excel\n",
    "from pandas.plotting import scatter_matrix\n",
    "from matplotlib import pyplot as plt\n",
    "from sklearn.model_selection import train_test_split\n",
    "from sklearn.model_selection import cross_val_score\n",
    "from sklearn.model_selection import StratifiedKFold\n",
    "from sklearn.metrics import classification_report\n",
    "from sklearn.metrics import confusion_matrix\n",
    "from sklearn.metrics import accuracy_score, precision_score\n",
    "from sklearn.linear_model import LogisticRegression\n",
    "from sklearn.tree import DecisionTreeClassifier\n",
    "from sklearn.neighbors import KNeighborsClassifier\n",
    "from sklearn.discriminant_analysis import LinearDiscriminantAnalysis\n",
    "from sklearn.naive_bayes import GaussianNB\n",
    "from sklearn.svm import SVC\n",
    "from sklearn.preprocessing import StandardScaler\n",
    "from sklearn.pipeline import make_pipeline\n",
    "import numpy as np"
   ]
  },
  {
   "cell_type": "code",
   "execution_count": 43,
   "id": "f89e9df6",
   "metadata": {},
   "outputs": [
    {
     "name": "stdout",
     "output_type": "stream",
     "text": [
      "   lam_max1      csc_max1  lam_min       csc_min  lam_fwhm1         c_mid  \\\n",
      "0       408  2.774638e-14      434  2.264798e-14        464  4.239645e-14   \n",
      "1       410  2.984472e-14      432  2.725996e-14        464  4.555423e-14   \n",
      "2       362  2.400898e-14      390  1.436011e-14        442  4.153600e-14   \n",
      "3       364  2.971955e-14      392  1.702803e-14        412  4.696978e-14   \n",
      "4       366  3.552294e-14      392  1.962838e-14        412  5.500586e-14   \n",
      "\n",
      "   lam_max2      csc_max2  lam_fwhm2  fwhm  ...  posisi2  posisi3  posisi4  \\\n",
      "0       474  6.214492e-14        484    20  ...        0        0        0   \n",
      "1       474  6.384849e-14        484    20  ...        0        0        0   \n",
      "2       472  6.871189e-14        488    46  ...        0        0        0   \n",
      "3       470  7.691152e-14        488    76  ...        0        0        0   \n",
      "4       462  9.038334e-14        488    76  ...        0        0        0   \n",
      "\n",
      "   posisi5  arah_k  arah_E  sb_putar  sudut1  sudut2  ket  \n",
      "0        0       1       2         1       0       0    0  \n",
      "1        0       1       2         1       1       5    0  \n",
      "2        0       1       2         1       3       0    0  \n",
      "3        0       1       2         1       4       5    0  \n",
      "4        0       1       2         1       6       0    0  \n",
      "\n",
      "[5 rows x 21 columns]\n"
     ]
    }
   ],
   "source": [
    "# Load dataset\n",
    "url = \"../../data/processed/den/tanpabola3.xlsx\"\n",
    "names = ['lam_max1', 'csc_max1', 'lam_min', 'csc_min','lam_fwhm1','c_mid','lam_max2','csc_max2','lam_fwhm2','fwhm','posisi1','posisi2','posisi3','posisi4','posisi5','arah_k','arah_E','sb_putar','sudut1','sudut2','ket'] \n",
    "dataset = read_excel(url, names=names, header=None)\n",
    "\n",
    "print(dataset.head(5))"
   ]
  },
  {
   "cell_type": "code",
   "execution_count": 44,
   "id": "39ba61ae",
   "metadata": {},
   "outputs": [],
   "source": [
    "# Define input and output data\n",
    "X = dataset.iloc[:,0:10].values\n",
    "y = dataset.iloc[:,20].values"
   ]
  },
  {
   "cell_type": "code",
   "execution_count": 4,
   "id": "5c87e071",
   "metadata": {},
   "outputs": [],
   "source": [
    "# Spot check algorithms\n",
    "models = {\n",
    "    'LR' : make_pipeline(StandardScaler(), LogisticRegression(solver='liblinear', multi_class='ovr')),\n",
    "    'LDA' : LinearDiscriminantAnalysis(),\n",
    "    'KNN' : KNeighborsClassifier(),\n",
    "    'CART' : DecisionTreeClassifier(),\n",
    "    'NB' : GaussianNB(),\n",
    "    'SVM' : SVC(gamma='auto')\n",
    "}"
   ]
  },
  {
   "cell_type": "code",
   "execution_count": 45,
   "id": "cbe8a95d",
   "metadata": {},
   "outputs": [],
   "source": [
    "# Spot check algorithms\n",
    "models = {\n",
    "    'LR' : make_pipeline(StandardScaler(), LogisticRegression(solver='liblinear', multi_class='ovr')),\n",
    "    'LDA' : LinearDiscriminantAnalysis(),\n",
    "    'KNN' : KNeighborsClassifier(),\n",
    "    'CART' : DecisionTreeClassifier(),\n",
    "    'NB' : GaussianNB(),\n",
    "    'SVM' : make_pipeline(StandardScaler(), SVC(gamma='auto'))\n",
    "}"
   ]
  },
  {
   "cell_type": "code",
   "execution_count": 46,
   "id": "06f369e5",
   "metadata": {},
   "outputs": [
    {
     "name": "stdout",
     "output_type": "stream",
     "text": [
      "Model: LR\n",
      "  Mean Accuracy: 0.7834\n",
      "  Mean Precision: 0.7795\n",
      "\n",
      "Model: LDA\n",
      "  Mean Accuracy: 0.7433\n",
      "  Mean Precision: 0.7482\n",
      "\n",
      "Model: KNN\n",
      "  Mean Accuracy: 0.8983\n",
      "  Mean Precision: 0.9007\n",
      "\n",
      "Model: CART\n",
      "  Mean Accuracy: 0.9151\n",
      "  Mean Precision: 0.9323\n",
      "\n",
      "Model: NB\n",
      "  Mean Accuracy: 0.5723\n",
      "  Mean Precision: 0.5542\n",
      "\n",
      "Model: SVM\n",
      "  Mean Accuracy: 0.9085\n",
      "  Mean Precision: 0.9165\n",
      "\n"
     ]
    }
   ],
   "source": [
    "#Cross-validation\n",
    "kf = StratifiedKFold(n_splits=2, shuffle=True, random_state=42)\n",
    "\n",
    "# Evaluation storage\n",
    "results = {name: {'accuracy': [], 'precision': []} for name in models}\n",
    "\n",
    "# Training and evaluation\n",
    "for name, model in models.items():\n",
    "    for train_idx, test_idx in kf.split(X, y):\n",
    "        X_train, X_test = X[train_idx], X[test_idx]\n",
    "        y_train, y_test = y[train_idx], y[test_idx]\n",
    "\n",
    "        model.fit(X_train, y_train)\n",
    "        y_pred = model.predict(X_test)\n",
    "\n",
    "        acc = accuracy_score(y_test, y_pred)\n",
    "        prec = precision_score(y_test, y_pred, average=None)\n",
    "\n",
    "        results[name]['accuracy'].append(acc)\n",
    "        results[name]['precision'].append(prec)\n",
    "\n",
    "# Print results\n",
    "for name, scores in results.items():\n",
    "    print(f\"Model: {name}\")\n",
    "    print(f\"  Mean Accuracy: {np.mean(scores['accuracy']):.4f}\")\n",
    "    print(f\"  Mean Precision: {np.mean(scores['precision']):.4f}\")\n",
    "    print()\n"
   ]
  },
  {
   "cell_type": "markdown",
   "id": "7d38ddb7",
   "metadata": {},
   "source": [
    "## 1. Validation for `tanpabola3.xlsx` Data"
   ]
  },
  {
   "cell_type": "code",
   "execution_count": 20,
   "id": "7afa4ad4",
   "metadata": {},
   "outputs": [],
   "source": [
    "# Load dataset\n",
    "url = \"../../data/processed/den/tanpabola3.xlsx\"\n",
    "names = ['lam_max1', 'csc_max1', 'lam_min', 'csc_min','lam_fwhm1','c_mid','lam_max2','csc_max2','lam_fwhm2','fwhm','posisi1','posisi2','posisi3','posisi4','posisi5','arah_k','arah_E','sb_putar','sudut1','sudut2','ket'] \n",
    "dataset = read_excel(url, names=names, header=None)"
   ]
  },
  {
   "cell_type": "code",
   "execution_count": 21,
   "id": "064c0fbd",
   "metadata": {},
   "outputs": [
    {
     "name": "stdout",
     "output_type": "stream",
     "text": [
      "1070\n",
      "1\n",
      "0.0009337068160597573\n"
     ]
    }
   ],
   "source": [
    "X_train, X_valid, y_train, y_valid = train_test_split(\n",
    "    X, y, test_size=1,\n",
    "    random_state=1\n",
    ")\n",
    "\n",
    "print(len(y_train))\n",
    "print(len(y_valid))\n",
    "print(len(y_valid)/(len(y_train) + len(y_valid)))"
   ]
  },
  {
   "cell_type": "code",
   "execution_count": 22,
   "id": "ebe6961d",
   "metadata": {},
   "outputs": [
    {
     "name": "stderr",
     "output_type": "stream",
     "text": [
      "d:\\1. Project\\Python\\mlvenv\\Lib\\site-packages\\sklearn\\metrics\\_classification.py:386: UserWarning: A single label was found in 'y_true' and 'y_pred'. For the confusion matrix to have the correct shape, use the 'labels' parameter to pass all known labels.\n",
      "  warnings.warn(\n",
      "d:\\1. Project\\Python\\mlvenv\\Lib\\site-packages\\sklearn\\metrics\\_classification.py:1509: UndefinedMetricWarning: Precision is ill-defined and being set to 0.0 in labels with no predicted samples. Use `zero_division` parameter to control this behavior.\n",
      "  _warn_prf(average, modifier, f\"{metric.capitalize()} is\", len(result))\n",
      "d:\\1. Project\\Python\\mlvenv\\Lib\\site-packages\\sklearn\\metrics\\_classification.py:1509: UndefinedMetricWarning: Recall is ill-defined and being set to 0.0 in labels with no true samples. Use `zero_division` parameter to control this behavior.\n",
      "  _warn_prf(average, modifier, f\"{metric.capitalize()} is\", len(result))\n",
      "d:\\1. Project\\Python\\mlvenv\\Lib\\site-packages\\sklearn\\metrics\\_classification.py:1509: UndefinedMetricWarning: Precision is ill-defined and being set to 0.0 in labels with no predicted samples. Use `zero_division` parameter to control this behavior.\n",
      "  _warn_prf(average, modifier, f\"{metric.capitalize()} is\", len(result))\n",
      "d:\\1. Project\\Python\\mlvenv\\Lib\\site-packages\\sklearn\\metrics\\_classification.py:1509: UndefinedMetricWarning: Recall is ill-defined and being set to 0.0 in labels with no true samples. Use `zero_division` parameter to control this behavior.\n",
      "  _warn_prf(average, modifier, f\"{metric.capitalize()} is\", len(result))\n",
      "d:\\1. Project\\Python\\mlvenv\\Lib\\site-packages\\sklearn\\metrics\\_classification.py:1509: UndefinedMetricWarning: Precision is ill-defined and being set to 0.0 in labels with no predicted samples. Use `zero_division` parameter to control this behavior.\n",
      "  _warn_prf(average, modifier, f\"{metric.capitalize()} is\", len(result))\n",
      "d:\\1. Project\\Python\\mlvenv\\Lib\\site-packages\\sklearn\\metrics\\_classification.py:1509: UndefinedMetricWarning: Recall is ill-defined and being set to 0.0 in labels with no true samples. Use `zero_division` parameter to control this behavior.\n",
      "  _warn_prf(average, modifier, f\"{metric.capitalize()} is\", len(result))\n",
      "d:\\1. Project\\Python\\mlvenv\\Lib\\site-packages\\sklearn\\metrics\\_classification.py:1509: UndefinedMetricWarning: Precision is ill-defined and being set to 0.0 in labels with no predicted samples. Use `zero_division` parameter to control this behavior.\n",
      "  _warn_prf(average, modifier, f\"{metric.capitalize()} is\", len(result))\n",
      "d:\\1. Project\\Python\\mlvenv\\Lib\\site-packages\\sklearn\\metrics\\_classification.py:1509: UndefinedMetricWarning: Recall is ill-defined and being set to 0.0 in labels with no true samples. Use `zero_division` parameter to control this behavior.\n",
      "  _warn_prf(average, modifier, f\"{metric.capitalize()} is\", len(result))\n",
      "d:\\1. Project\\Python\\mlvenv\\Lib\\site-packages\\sklearn\\metrics\\_classification.py:1509: UndefinedMetricWarning: Precision is ill-defined and being set to 0.0 in labels with no predicted samples. Use `zero_division` parameter to control this behavior.\n",
      "  _warn_prf(average, modifier, f\"{metric.capitalize()} is\", len(result))\n",
      "d:\\1. Project\\Python\\mlvenv\\Lib\\site-packages\\sklearn\\metrics\\_classification.py:1509: UndefinedMetricWarning: Recall is ill-defined and being set to 0.0 in labels with no true samples. Use `zero_division` parameter to control this behavior.\n",
      "  _warn_prf(average, modifier, f\"{metric.capitalize()} is\", len(result))\n",
      "d:\\1. Project\\Python\\mlvenv\\Lib\\site-packages\\sklearn\\metrics\\_classification.py:1509: UndefinedMetricWarning: Precision is ill-defined and being set to 0.0 in labels with no predicted samples. Use `zero_division` parameter to control this behavior.\n",
      "  _warn_prf(average, modifier, f\"{metric.capitalize()} is\", len(result))\n",
      "d:\\1. Project\\Python\\mlvenv\\Lib\\site-packages\\sklearn\\metrics\\_classification.py:1509: UndefinedMetricWarning: Recall is ill-defined and being set to 0.0 in labels with no true samples. Use `zero_division` parameter to control this behavior.\n",
      "  _warn_prf(average, modifier, f\"{metric.capitalize()} is\", len(result))\n",
      "d:\\1. Project\\Python\\mlvenv\\Lib\\site-packages\\sklearn\\metrics\\_classification.py:1509: UndefinedMetricWarning: Precision is ill-defined and being set to 0.0 in labels with no predicted samples. Use `zero_division` parameter to control this behavior.\n",
      "  _warn_prf(average, modifier, f\"{metric.capitalize()} is\", len(result))\n",
      "d:\\1. Project\\Python\\mlvenv\\Lib\\site-packages\\sklearn\\metrics\\_classification.py:1509: UndefinedMetricWarning: Recall is ill-defined and being set to 0.0 in labels with no true samples. Use `zero_division` parameter to control this behavior.\n",
      "  _warn_prf(average, modifier, f\"{metric.capitalize()} is\", len(result))\n",
      "d:\\1. Project\\Python\\mlvenv\\Lib\\site-packages\\sklearn\\metrics\\_classification.py:1509: UndefinedMetricWarning: Precision is ill-defined and being set to 0.0 in labels with no predicted samples. Use `zero_division` parameter to control this behavior.\n",
      "  _warn_prf(average, modifier, f\"{metric.capitalize()} is\", len(result))\n",
      "d:\\1. Project\\Python\\mlvenv\\Lib\\site-packages\\sklearn\\metrics\\_classification.py:1509: UndefinedMetricWarning: Recall is ill-defined and being set to 0.0 in labels with no true samples. Use `zero_division` parameter to control this behavior.\n",
      "  _warn_prf(average, modifier, f\"{metric.capitalize()} is\", len(result))\n",
      "d:\\1. Project\\Python\\mlvenv\\Lib\\site-packages\\sklearn\\metrics\\_classification.py:1509: UndefinedMetricWarning: Precision is ill-defined and being set to 0.0 in labels with no predicted samples. Use `zero_division` parameter to control this behavior.\n",
      "  _warn_prf(average, modifier, f\"{metric.capitalize()} is\", len(result))\n",
      "d:\\1. Project\\Python\\mlvenv\\Lib\\site-packages\\sklearn\\metrics\\_classification.py:1509: UndefinedMetricWarning: Recall is ill-defined and being set to 0.0 in labels with no true samples. Use `zero_division` parameter to control this behavior.\n",
      "  _warn_prf(average, modifier, f\"{metric.capitalize()} is\", len(result))\n",
      "d:\\1. Project\\Python\\mlvenv\\Lib\\site-packages\\sklearn\\metrics\\_classification.py:1509: UndefinedMetricWarning: Precision is ill-defined and being set to 0.0 in labels with no predicted samples. Use `zero_division` parameter to control this behavior.\n",
      "  _warn_prf(average, modifier, f\"{metric.capitalize()} is\", len(result))\n",
      "d:\\1. Project\\Python\\mlvenv\\Lib\\site-packages\\sklearn\\metrics\\_classification.py:1509: UndefinedMetricWarning: Recall is ill-defined and being set to 0.0 in labels with no true samples. Use `zero_division` parameter to control this behavior.\n",
      "  _warn_prf(average, modifier, f\"{metric.capitalize()} is\", len(result))\n",
      "d:\\1. Project\\Python\\mlvenv\\Lib\\site-packages\\sklearn\\metrics\\_classification.py:1509: UndefinedMetricWarning: Precision is ill-defined and being set to 0.0 in labels with no predicted samples. Use `zero_division` parameter to control this behavior.\n",
      "  _warn_prf(average, modifier, f\"{metric.capitalize()} is\", len(result))\n",
      "d:\\1. Project\\Python\\mlvenv\\Lib\\site-packages\\sklearn\\metrics\\_classification.py:1509: UndefinedMetricWarning: Recall is ill-defined and being set to 0.0 in labels with no true samples. Use `zero_division` parameter to control this behavior.\n",
      "  _warn_prf(average, modifier, f\"{metric.capitalize()} is\", len(result))\n",
      "d:\\1. Project\\Python\\mlvenv\\Lib\\site-packages\\sklearn\\metrics\\_classification.py:1509: UndefinedMetricWarning: Precision is ill-defined and being set to 0.0 in labels with no predicted samples. Use `zero_division` parameter to control this behavior.\n",
      "  _warn_prf(average, modifier, f\"{metric.capitalize()} is\", len(result))\n",
      "d:\\1. Project\\Python\\mlvenv\\Lib\\site-packages\\sklearn\\metrics\\_classification.py:1509: UndefinedMetricWarning: Recall is ill-defined and being set to 0.0 in labels with no true samples. Use `zero_division` parameter to control this behavior.\n",
      "  _warn_prf(average, modifier, f\"{metric.capitalize()} is\", len(result))\n"
     ]
    },
    {
     "name": "stdout",
     "output_type": "stream",
     "text": [
      "Evaluation results exported to .txt file\n"
     ]
    },
    {
     "name": "stderr",
     "output_type": "stream",
     "text": [
      "d:\\1. Project\\Python\\mlvenv\\Lib\\site-packages\\sklearn\\metrics\\_classification.py:1509: UndefinedMetricWarning: Precision is ill-defined and being set to 0.0 in labels with no predicted samples. Use `zero_division` parameter to control this behavior.\n",
      "  _warn_prf(average, modifier, f\"{metric.capitalize()} is\", len(result))\n",
      "d:\\1. Project\\Python\\mlvenv\\Lib\\site-packages\\sklearn\\metrics\\_classification.py:1509: UndefinedMetricWarning: Recall is ill-defined and being set to 0.0 in labels with no true samples. Use `zero_division` parameter to control this behavior.\n",
      "  _warn_prf(average, modifier, f\"{metric.capitalize()} is\", len(result))\n",
      "d:\\1. Project\\Python\\mlvenv\\Lib\\site-packages\\sklearn\\metrics\\_classification.py:1509: UndefinedMetricWarning: Precision is ill-defined and being set to 0.0 in labels with no predicted samples. Use `zero_division` parameter to control this behavior.\n",
      "  _warn_prf(average, modifier, f\"{metric.capitalize()} is\", len(result))\n",
      "d:\\1. Project\\Python\\mlvenv\\Lib\\site-packages\\sklearn\\metrics\\_classification.py:1509: UndefinedMetricWarning: Recall is ill-defined and being set to 0.0 in labels with no true samples. Use `zero_division` parameter to control this behavior.\n",
      "  _warn_prf(average, modifier, f\"{metric.capitalize()} is\", len(result))\n",
      "d:\\1. Project\\Python\\mlvenv\\Lib\\site-packages\\sklearn\\metrics\\_classification.py:1509: UndefinedMetricWarning: Precision is ill-defined and being set to 0.0 in labels with no predicted samples. Use `zero_division` parameter to control this behavior.\n",
      "  _warn_prf(average, modifier, f\"{metric.capitalize()} is\", len(result))\n",
      "d:\\1. Project\\Python\\mlvenv\\Lib\\site-packages\\sklearn\\metrics\\_classification.py:1509: UndefinedMetricWarning: Recall is ill-defined and being set to 0.0 in labels with no true samples. Use `zero_division` parameter to control this behavior.\n",
      "  _warn_prf(average, modifier, f\"{metric.capitalize()} is\", len(result))\n"
     ]
    }
   ],
   "source": [
    "# Write results to a text file\n",
    "with open(\"output_validation_tanpabola3.txt\", \"w\") as f:\n",
    "    for name, model in models.items():\n",
    "        model.fit(X_train,y_train)\n",
    "        y_predict = model.predict(X_valid)\n",
    "        report = classification_report(y_valid, y_predict)\n",
    "        cf = confusion_matrix(y_valid, y_predict)\n",
    "\n",
    "        f.write(f\"Model: {name}\\n\")\n",
    "        f.write(f\"confusion matrix:\\n {cf}\\n\")\n",
    "        f.write(f\"classification report: \\n {report}\\n\")\n",
    "        f.write(f\"=====================================================\\n\")\n",
    "print(\"Evaluation results exported to .txt file\") \n"
   ]
  },
  {
   "cell_type": "markdown",
   "id": "aab04fb9",
   "metadata": {},
   "source": [
    "### - Testing with Data `3bola.xlsx`"
   ]
  },
  {
   "cell_type": "code",
   "execution_count": 23,
   "id": "2f57dbcd",
   "metadata": {},
   "outputs": [
    {
     "name": "stdout",
     "output_type": "stream",
     "text": [
      "630\n",
      "630\n"
     ]
    }
   ],
   "source": [
    "# Load dataset\n",
    "url = \"../../data/processed/den/3bola.xlsx\"\n",
    "names = ['lam_max1', 'csc_max1', 'lam_min', 'csc_min','lam_fwhm1','c_mid','lam_max2','csc_max2','lam_fwhm2','fwhm','posisi1','posisi2','posisi3','posisi4','posisi5','arah_k','arah_E','sb_putar','sudut1','sudut2','ket'] \n",
    "bola3 = read_excel(url, names=names, header=None)\n",
    "\n",
    "# Define input and output data\n",
    "X_bola3 = bola3.iloc[:,0:10].values\n",
    "y_bola3 = bola3.iloc[:,20].values\n",
    "\n",
    "print(len(X_bola3))\n",
    "print(len(y_bola3))"
   ]
  },
  {
   "cell_type": "code",
   "execution_count": 24,
   "id": "8e0c2bd0",
   "metadata": {},
   "outputs": [
    {
     "name": "stdout",
     "output_type": "stream",
     "text": [
      "Evaluation results exported to .txt file\n"
     ]
    }
   ],
   "source": [
    "y_valid = y_bola3\n",
    "X_valid = X_bola3\n",
    "# Write results to a text file\n",
    "with open(\"output_validation_bola3_100.txt\", \"w\") as f:\n",
    "    for name, model in models.items():\n",
    "        model.fit(X_train,y_train)\n",
    "        y_predict = model.predict(X_valid)\n",
    "        report = classification_report(y_valid, y_predict)\n",
    "        cf = confusion_matrix(y_valid, y_predict)\n",
    "\n",
    "        f.write(f\"Model: {name}\\n\")\n",
    "        f.write(f\"confusion matrix:\\n {cf}\\n\")\n",
    "        f.write(f\"classification report: \\n {report}\\n\")\n",
    "        f.write(f\"=====================================================\\n\")\n",
    "print(\"Evaluation results exported to .txt file\")  "
   ]
  },
  {
   "cell_type": "markdown",
   "id": "3d3d365a",
   "metadata": {},
   "source": [
    "### - Testing with 20 data `bola3.xlsx` on each group "
   ]
  },
  {
   "cell_type": "code",
   "execution_count": 40,
   "id": "45def671",
   "metadata": {},
   "outputs": [
    {
     "name": "stderr",
     "output_type": "stream",
     "text": [
      "d:\\1. Project\\Python\\mlvenv\\Lib\\site-packages\\sklearn\\metrics\\_classification.py:1509: UndefinedMetricWarning: Recall is ill-defined and being set to 0.0 in labels with no true samples. Use `zero_division` parameter to control this behavior.\n",
      "  _warn_prf(average, modifier, f\"{metric.capitalize()} is\", len(result))\n",
      "d:\\1. Project\\Python\\mlvenv\\Lib\\site-packages\\sklearn\\metrics\\_classification.py:1509: UndefinedMetricWarning: Recall is ill-defined and being set to 0.0 in labels with no true samples. Use `zero_division` parameter to control this behavior.\n",
      "  _warn_prf(average, modifier, f\"{metric.capitalize()} is\", len(result))\n",
      "d:\\1. Project\\Python\\mlvenv\\Lib\\site-packages\\sklearn\\metrics\\_classification.py:1509: UndefinedMetricWarning: Recall is ill-defined and being set to 0.0 in labels with no true samples. Use `zero_division` parameter to control this behavior.\n",
      "  _warn_prf(average, modifier, f\"{metric.capitalize()} is\", len(result))\n",
      "d:\\1. Project\\Python\\mlvenv\\Lib\\site-packages\\sklearn\\metrics\\_classification.py:1509: UndefinedMetricWarning: Recall is ill-defined and being set to 0.0 in labels with no true samples. Use `zero_division` parameter to control this behavior.\n",
      "  _warn_prf(average, modifier, f\"{metric.capitalize()} is\", len(result))\n",
      "d:\\1. Project\\Python\\mlvenv\\Lib\\site-packages\\sklearn\\metrics\\_classification.py:1509: UndefinedMetricWarning: Recall is ill-defined and being set to 0.0 in labels with no true samples. Use `zero_division` parameter to control this behavior.\n",
      "  _warn_prf(average, modifier, f\"{metric.capitalize()} is\", len(result))\n",
      "d:\\1. Project\\Python\\mlvenv\\Lib\\site-packages\\sklearn\\metrics\\_classification.py:1509: UndefinedMetricWarning: Recall is ill-defined and being set to 0.0 in labels with no true samples. Use `zero_division` parameter to control this behavior.\n",
      "  _warn_prf(average, modifier, f\"{metric.capitalize()} is\", len(result))\n",
      "d:\\1. Project\\Python\\mlvenv\\Lib\\site-packages\\sklearn\\metrics\\_classification.py:1509: UndefinedMetricWarning: Precision is ill-defined and being set to 0.0 in labels with no predicted samples. Use `zero_division` parameter to control this behavior.\n",
      "  _warn_prf(average, modifier, f\"{metric.capitalize()} is\", len(result))\n",
      "d:\\1. Project\\Python\\mlvenv\\Lib\\site-packages\\sklearn\\metrics\\_classification.py:1509: UndefinedMetricWarning: Precision is ill-defined and being set to 0.0 in labels with no predicted samples. Use `zero_division` parameter to control this behavior.\n",
      "  _warn_prf(average, modifier, f\"{metric.capitalize()} is\", len(result))\n",
      "d:\\1. Project\\Python\\mlvenv\\Lib\\site-packages\\sklearn\\metrics\\_classification.py:1509: UndefinedMetricWarning: Precision is ill-defined and being set to 0.0 in labels with no predicted samples. Use `zero_division` parameter to control this behavior.\n",
      "  _warn_prf(average, modifier, f\"{metric.capitalize()} is\", len(result))\n",
      "d:\\1. Project\\Python\\mlvenv\\Lib\\site-packages\\sklearn\\metrics\\_classification.py:1509: UndefinedMetricWarning: Recall is ill-defined and being set to 0.0 in labels with no true samples. Use `zero_division` parameter to control this behavior.\n",
      "  _warn_prf(average, modifier, f\"{metric.capitalize()} is\", len(result))\n",
      "d:\\1. Project\\Python\\mlvenv\\Lib\\site-packages\\sklearn\\metrics\\_classification.py:1509: UndefinedMetricWarning: Recall is ill-defined and being set to 0.0 in labels with no true samples. Use `zero_division` parameter to control this behavior.\n",
      "  _warn_prf(average, modifier, f\"{metric.capitalize()} is\", len(result))\n",
      "d:\\1. Project\\Python\\mlvenv\\Lib\\site-packages\\sklearn\\metrics\\_classification.py:1509: UndefinedMetricWarning: Recall is ill-defined and being set to 0.0 in labels with no true samples. Use `zero_division` parameter to control this behavior.\n",
      "  _warn_prf(average, modifier, f\"{metric.capitalize()} is\", len(result))\n",
      "d:\\1. Project\\Python\\mlvenv\\Lib\\site-packages\\sklearn\\metrics\\_classification.py:1509: UndefinedMetricWarning: Precision is ill-defined and being set to 0.0 in labels with no predicted samples. Use `zero_division` parameter to control this behavior.\n",
      "  _warn_prf(average, modifier, f\"{metric.capitalize()} is\", len(result))\n",
      "d:\\1. Project\\Python\\mlvenv\\Lib\\site-packages\\sklearn\\metrics\\_classification.py:1509: UndefinedMetricWarning: Recall is ill-defined and being set to 0.0 in labels with no true samples. Use `zero_division` parameter to control this behavior.\n",
      "  _warn_prf(average, modifier, f\"{metric.capitalize()} is\", len(result))\n",
      "d:\\1. Project\\Python\\mlvenv\\Lib\\site-packages\\sklearn\\metrics\\_classification.py:1509: UndefinedMetricWarning: Precision is ill-defined and being set to 0.0 in labels with no predicted samples. Use `zero_division` parameter to control this behavior.\n",
      "  _warn_prf(average, modifier, f\"{metric.capitalize()} is\", len(result))\n",
      "d:\\1. Project\\Python\\mlvenv\\Lib\\site-packages\\sklearn\\metrics\\_classification.py:1509: UndefinedMetricWarning: Recall is ill-defined and being set to 0.0 in labels with no true samples. Use `zero_division` parameter to control this behavior.\n",
      "  _warn_prf(average, modifier, f\"{metric.capitalize()} is\", len(result))\n",
      "d:\\1. Project\\Python\\mlvenv\\Lib\\site-packages\\sklearn\\metrics\\_classification.py:1509: UndefinedMetricWarning: Precision is ill-defined and being set to 0.0 in labels with no predicted samples. Use `zero_division` parameter to control this behavior.\n",
      "  _warn_prf(average, modifier, f\"{metric.capitalize()} is\", len(result))\n",
      "d:\\1. Project\\Python\\mlvenv\\Lib\\site-packages\\sklearn\\metrics\\_classification.py:1509: UndefinedMetricWarning: Recall is ill-defined and being set to 0.0 in labels with no true samples. Use `zero_division` parameter to control this behavior.\n",
      "  _warn_prf(average, modifier, f\"{metric.capitalize()} is\", len(result))\n",
      "d:\\1. Project\\Python\\mlvenv\\Lib\\site-packages\\sklearn\\metrics\\_classification.py:1509: UndefinedMetricWarning: Recall is ill-defined and being set to 0.0 in labels with no true samples. Use `zero_division` parameter to control this behavior.\n",
      "  _warn_prf(average, modifier, f\"{metric.capitalize()} is\", len(result))\n",
      "d:\\1. Project\\Python\\mlvenv\\Lib\\site-packages\\sklearn\\metrics\\_classification.py:1509: UndefinedMetricWarning: Recall is ill-defined and being set to 0.0 in labels with no true samples. Use `zero_division` parameter to control this behavior.\n",
      "  _warn_prf(average, modifier, f\"{metric.capitalize()} is\", len(result))\n",
      "d:\\1. Project\\Python\\mlvenv\\Lib\\site-packages\\sklearn\\metrics\\_classification.py:1509: UndefinedMetricWarning: Recall is ill-defined and being set to 0.0 in labels with no true samples. Use `zero_division` parameter to control this behavior.\n",
      "  _warn_prf(average, modifier, f\"{metric.capitalize()} is\", len(result))\n",
      "d:\\1. Project\\Python\\mlvenv\\Lib\\site-packages\\sklearn\\metrics\\_classification.py:1509: UndefinedMetricWarning: Recall is ill-defined and being set to 0.0 in labels with no true samples. Use `zero_division` parameter to control this behavior.\n",
      "  _warn_prf(average, modifier, f\"{metric.capitalize()} is\", len(result))\n",
      "d:\\1. Project\\Python\\mlvenv\\Lib\\site-packages\\sklearn\\metrics\\_classification.py:1509: UndefinedMetricWarning: Recall is ill-defined and being set to 0.0 in labels with no true samples. Use `zero_division` parameter to control this behavior.\n",
      "  _warn_prf(average, modifier, f\"{metric.capitalize()} is\", len(result))\n",
      "d:\\1. Project\\Python\\mlvenv\\Lib\\site-packages\\sklearn\\metrics\\_classification.py:1509: UndefinedMetricWarning: Recall is ill-defined and being set to 0.0 in labels with no true samples. Use `zero_division` parameter to control this behavior.\n",
      "  _warn_prf(average, modifier, f\"{metric.capitalize()} is\", len(result))\n",
      "d:\\1. Project\\Python\\mlvenv\\Lib\\site-packages\\sklearn\\metrics\\_classification.py:1509: UndefinedMetricWarning: Recall is ill-defined and being set to 0.0 in labels with no true samples. Use `zero_division` parameter to control this behavior.\n",
      "  _warn_prf(average, modifier, f\"{metric.capitalize()} is\", len(result))\n",
      "d:\\1. Project\\Python\\mlvenv\\Lib\\site-packages\\sklearn\\metrics\\_classification.py:1509: UndefinedMetricWarning: Recall is ill-defined and being set to 0.0 in labels with no true samples. Use `zero_division` parameter to control this behavior.\n",
      "  _warn_prf(average, modifier, f\"{metric.capitalize()} is\", len(result))\n",
      "d:\\1. Project\\Python\\mlvenv\\Lib\\site-packages\\sklearn\\metrics\\_classification.py:1509: UndefinedMetricWarning: Recall is ill-defined and being set to 0.0 in labels with no true samples. Use `zero_division` parameter to control this behavior.\n",
      "  _warn_prf(average, modifier, f\"{metric.capitalize()} is\", len(result))\n",
      "d:\\1. Project\\Python\\mlvenv\\Lib\\site-packages\\sklearn\\metrics\\_classification.py:1509: UndefinedMetricWarning: Recall is ill-defined and being set to 0.0 in labels with no true samples. Use `zero_division` parameter to control this behavior.\n",
      "  _warn_prf(average, modifier, f\"{metric.capitalize()} is\", len(result))\n",
      "d:\\1. Project\\Python\\mlvenv\\Lib\\site-packages\\sklearn\\metrics\\_classification.py:1509: UndefinedMetricWarning: Recall is ill-defined and being set to 0.0 in labels with no true samples. Use `zero_division` parameter to control this behavior.\n",
      "  _warn_prf(average, modifier, f\"{metric.capitalize()} is\", len(result))\n",
      "d:\\1. Project\\Python\\mlvenv\\Lib\\site-packages\\sklearn\\metrics\\_classification.py:1509: UndefinedMetricWarning: Recall is ill-defined and being set to 0.0 in labels with no true samples. Use `zero_division` parameter to control this behavior.\n",
      "  _warn_prf(average, modifier, f\"{metric.capitalize()} is\", len(result))\n",
      "d:\\1. Project\\Python\\mlvenv\\Lib\\site-packages\\sklearn\\metrics\\_classification.py:1509: UndefinedMetricWarning: Recall is ill-defined and being set to 0.0 in labels with no true samples. Use `zero_division` parameter to control this behavior.\n",
      "  _warn_prf(average, modifier, f\"{metric.capitalize()} is\", len(result))\n",
      "d:\\1. Project\\Python\\mlvenv\\Lib\\site-packages\\sklearn\\metrics\\_classification.py:1509: UndefinedMetricWarning: Recall is ill-defined and being set to 0.0 in labels with no true samples. Use `zero_division` parameter to control this behavior.\n",
      "  _warn_prf(average, modifier, f\"{metric.capitalize()} is\", len(result))\n",
      "d:\\1. Project\\Python\\mlvenv\\Lib\\site-packages\\sklearn\\metrics\\_classification.py:1509: UndefinedMetricWarning: Recall is ill-defined and being set to 0.0 in labels with no true samples. Use `zero_division` parameter to control this behavior.\n",
      "  _warn_prf(average, modifier, f\"{metric.capitalize()} is\", len(result))\n",
      "d:\\1. Project\\Python\\mlvenv\\Lib\\site-packages\\sklearn\\metrics\\_classification.py:1509: UndefinedMetricWarning: Precision is ill-defined and being set to 0.0 in labels with no predicted samples. Use `zero_division` parameter to control this behavior.\n",
      "  _warn_prf(average, modifier, f\"{metric.capitalize()} is\", len(result))\n",
      "d:\\1. Project\\Python\\mlvenv\\Lib\\site-packages\\sklearn\\metrics\\_classification.py:1509: UndefinedMetricWarning: Precision is ill-defined and being set to 0.0 in labels with no predicted samples. Use `zero_division` parameter to control this behavior.\n",
      "  _warn_prf(average, modifier, f\"{metric.capitalize()} is\", len(result))\n",
      "d:\\1. Project\\Python\\mlvenv\\Lib\\site-packages\\sklearn\\metrics\\_classification.py:1509: UndefinedMetricWarning: Precision is ill-defined and being set to 0.0 in labels with no predicted samples. Use `zero_division` parameter to control this behavior.\n",
      "  _warn_prf(average, modifier, f\"{metric.capitalize()} is\", len(result))\n",
      "d:\\1. Project\\Python\\mlvenv\\Lib\\site-packages\\sklearn\\metrics\\_classification.py:1509: UndefinedMetricWarning: Precision is ill-defined and being set to 0.0 in labels with no predicted samples. Use `zero_division` parameter to control this behavior.\n",
      "  _warn_prf(average, modifier, f\"{metric.capitalize()} is\", len(result))\n",
      "d:\\1. Project\\Python\\mlvenv\\Lib\\site-packages\\sklearn\\metrics\\_classification.py:1509: UndefinedMetricWarning: Recall is ill-defined and being set to 0.0 in labels with no true samples. Use `zero_division` parameter to control this behavior.\n",
      "  _warn_prf(average, modifier, f\"{metric.capitalize()} is\", len(result))\n",
      "d:\\1. Project\\Python\\mlvenv\\Lib\\site-packages\\sklearn\\metrics\\_classification.py:1509: UndefinedMetricWarning: Precision is ill-defined and being set to 0.0 in labels with no predicted samples. Use `zero_division` parameter to control this behavior.\n",
      "  _warn_prf(average, modifier, f\"{metric.capitalize()} is\", len(result))\n",
      "d:\\1. Project\\Python\\mlvenv\\Lib\\site-packages\\sklearn\\metrics\\_classification.py:1509: UndefinedMetricWarning: Recall is ill-defined and being set to 0.0 in labels with no true samples. Use `zero_division` parameter to control this behavior.\n",
      "  _warn_prf(average, modifier, f\"{metric.capitalize()} is\", len(result))\n",
      "d:\\1. Project\\Python\\mlvenv\\Lib\\site-packages\\sklearn\\metrics\\_classification.py:1509: UndefinedMetricWarning: Precision is ill-defined and being set to 0.0 in labels with no predicted samples. Use `zero_division` parameter to control this behavior.\n",
      "  _warn_prf(average, modifier, f\"{metric.capitalize()} is\", len(result))\n",
      "d:\\1. Project\\Python\\mlvenv\\Lib\\site-packages\\sklearn\\metrics\\_classification.py:1509: UndefinedMetricWarning: Recall is ill-defined and being set to 0.0 in labels with no true samples. Use `zero_division` parameter to control this behavior.\n",
      "  _warn_prf(average, modifier, f\"{metric.capitalize()} is\", len(result))\n",
      "d:\\1. Project\\Python\\mlvenv\\Lib\\site-packages\\sklearn\\metrics\\_classification.py:1509: UndefinedMetricWarning: Recall is ill-defined and being set to 0.0 in labels with no true samples. Use `zero_division` parameter to control this behavior.\n",
      "  _warn_prf(average, modifier, f\"{metric.capitalize()} is\", len(result))\n",
      "d:\\1. Project\\Python\\mlvenv\\Lib\\site-packages\\sklearn\\metrics\\_classification.py:1509: UndefinedMetricWarning: Recall is ill-defined and being set to 0.0 in labels with no true samples. Use `zero_division` parameter to control this behavior.\n",
      "  _warn_prf(average, modifier, f\"{metric.capitalize()} is\", len(result))\n",
      "d:\\1. Project\\Python\\mlvenv\\Lib\\site-packages\\sklearn\\metrics\\_classification.py:1509: UndefinedMetricWarning: Recall is ill-defined and being set to 0.0 in labels with no true samples. Use `zero_division` parameter to control this behavior.\n",
      "  _warn_prf(average, modifier, f\"{metric.capitalize()} is\", len(result))\n",
      "d:\\1. Project\\Python\\mlvenv\\Lib\\site-packages\\sklearn\\metrics\\_classification.py:1509: UndefinedMetricWarning: Recall is ill-defined and being set to 0.0 in labels with no true samples. Use `zero_division` parameter to control this behavior.\n",
      "  _warn_prf(average, modifier, f\"{metric.capitalize()} is\", len(result))\n",
      "d:\\1. Project\\Python\\mlvenv\\Lib\\site-packages\\sklearn\\metrics\\_classification.py:1509: UndefinedMetricWarning: Recall is ill-defined and being set to 0.0 in labels with no true samples. Use `zero_division` parameter to control this behavior.\n",
      "  _warn_prf(average, modifier, f\"{metric.capitalize()} is\", len(result))\n",
      "d:\\1. Project\\Python\\mlvenv\\Lib\\site-packages\\sklearn\\metrics\\_classification.py:1509: UndefinedMetricWarning: Recall is ill-defined and being set to 0.0 in labels with no true samples. Use `zero_division` parameter to control this behavior.\n",
      "  _warn_prf(average, modifier, f\"{metric.capitalize()} is\", len(result))\n",
      "d:\\1. Project\\Python\\mlvenv\\Lib\\site-packages\\sklearn\\metrics\\_classification.py:386: UserWarning: A single label was found in 'y_true' and 'y_pred'. For the confusion matrix to have the correct shape, use the 'labels' parameter to pass all known labels.\n",
      "  warnings.warn(\n",
      "d:\\1. Project\\Python\\mlvenv\\Lib\\site-packages\\sklearn\\metrics\\_classification.py:1509: UndefinedMetricWarning: Precision is ill-defined and being set to 0.0 in labels with no predicted samples. Use `zero_division` parameter to control this behavior.\n",
      "  _warn_prf(average, modifier, f\"{metric.capitalize()} is\", len(result))\n",
      "d:\\1. Project\\Python\\mlvenv\\Lib\\site-packages\\sklearn\\metrics\\_classification.py:1509: UndefinedMetricWarning: Recall is ill-defined and being set to 0.0 in labels with no true samples. Use `zero_division` parameter to control this behavior.\n",
      "  _warn_prf(average, modifier, f\"{metric.capitalize()} is\", len(result))\n",
      "d:\\1. Project\\Python\\mlvenv\\Lib\\site-packages\\sklearn\\metrics\\_classification.py:1509: UndefinedMetricWarning: Precision is ill-defined and being set to 0.0 in labels with no predicted samples. Use `zero_division` parameter to control this behavior.\n",
      "  _warn_prf(average, modifier, f\"{metric.capitalize()} is\", len(result))\n",
      "d:\\1. Project\\Python\\mlvenv\\Lib\\site-packages\\sklearn\\metrics\\_classification.py:1509: UndefinedMetricWarning: Recall is ill-defined and being set to 0.0 in labels with no true samples. Use `zero_division` parameter to control this behavior.\n",
      "  _warn_prf(average, modifier, f\"{metric.capitalize()} is\", len(result))\n",
      "d:\\1. Project\\Python\\mlvenv\\Lib\\site-packages\\sklearn\\metrics\\_classification.py:1509: UndefinedMetricWarning: Precision is ill-defined and being set to 0.0 in labels with no predicted samples. Use `zero_division` parameter to control this behavior.\n",
      "  _warn_prf(average, modifier, f\"{metric.capitalize()} is\", len(result))\n",
      "d:\\1. Project\\Python\\mlvenv\\Lib\\site-packages\\sklearn\\metrics\\_classification.py:1509: UndefinedMetricWarning: Recall is ill-defined and being set to 0.0 in labels with no true samples. Use `zero_division` parameter to control this behavior.\n",
      "  _warn_prf(average, modifier, f\"{metric.capitalize()} is\", len(result))\n",
      "d:\\1. Project\\Python\\mlvenv\\Lib\\site-packages\\sklearn\\metrics\\_classification.py:1509: UndefinedMetricWarning: Recall is ill-defined and being set to 0.0 in labels with no true samples. Use `zero_division` parameter to control this behavior.\n",
      "  _warn_prf(average, modifier, f\"{metric.capitalize()} is\", len(result))\n",
      "d:\\1. Project\\Python\\mlvenv\\Lib\\site-packages\\sklearn\\metrics\\_classification.py:1509: UndefinedMetricWarning: Recall is ill-defined and being set to 0.0 in labels with no true samples. Use `zero_division` parameter to control this behavior.\n",
      "  _warn_prf(average, modifier, f\"{metric.capitalize()} is\", len(result))\n",
      "d:\\1. Project\\Python\\mlvenv\\Lib\\site-packages\\sklearn\\metrics\\_classification.py:1509: UndefinedMetricWarning: Recall is ill-defined and being set to 0.0 in labels with no true samples. Use `zero_division` parameter to control this behavior.\n",
      "  _warn_prf(average, modifier, f\"{metric.capitalize()} is\", len(result))\n",
      "d:\\1. Project\\Python\\mlvenv\\Lib\\site-packages\\sklearn\\metrics\\_classification.py:1509: UndefinedMetricWarning: Precision is ill-defined and being set to 0.0 in labels with no predicted samples. Use `zero_division` parameter to control this behavior.\n",
      "  _warn_prf(average, modifier, f\"{metric.capitalize()} is\", len(result))\n",
      "d:\\1. Project\\Python\\mlvenv\\Lib\\site-packages\\sklearn\\metrics\\_classification.py:1509: UndefinedMetricWarning: Recall is ill-defined and being set to 0.0 in labels with no true samples. Use `zero_division` parameter to control this behavior.\n",
      "  _warn_prf(average, modifier, f\"{metric.capitalize()} is\", len(result))\n",
      "d:\\1. Project\\Python\\mlvenv\\Lib\\site-packages\\sklearn\\metrics\\_classification.py:1509: UndefinedMetricWarning: Precision is ill-defined and being set to 0.0 in labels with no predicted samples. Use `zero_division` parameter to control this behavior.\n",
      "  _warn_prf(average, modifier, f\"{metric.capitalize()} is\", len(result))\n",
      "d:\\1. Project\\Python\\mlvenv\\Lib\\site-packages\\sklearn\\metrics\\_classification.py:1509: UndefinedMetricWarning: Recall is ill-defined and being set to 0.0 in labels with no true samples. Use `zero_division` parameter to control this behavior.\n",
      "  _warn_prf(average, modifier, f\"{metric.capitalize()} is\", len(result))\n",
      "d:\\1. Project\\Python\\mlvenv\\Lib\\site-packages\\sklearn\\metrics\\_classification.py:1509: UndefinedMetricWarning: Precision is ill-defined and being set to 0.0 in labels with no predicted samples. Use `zero_division` parameter to control this behavior.\n",
      "  _warn_prf(average, modifier, f\"{metric.capitalize()} is\", len(result))\n",
      "d:\\1. Project\\Python\\mlvenv\\Lib\\site-packages\\sklearn\\metrics\\_classification.py:1509: UndefinedMetricWarning: Recall is ill-defined and being set to 0.0 in labels with no true samples. Use `zero_division` parameter to control this behavior.\n",
      "  _warn_prf(average, modifier, f\"{metric.capitalize()} is\", len(result))\n",
      "d:\\1. Project\\Python\\mlvenv\\Lib\\site-packages\\sklearn\\metrics\\_classification.py:1509: UndefinedMetricWarning: Recall is ill-defined and being set to 0.0 in labels with no true samples. Use `zero_division` parameter to control this behavior.\n",
      "  _warn_prf(average, modifier, f\"{metric.capitalize()} is\", len(result))\n",
      "d:\\1. Project\\Python\\mlvenv\\Lib\\site-packages\\sklearn\\metrics\\_classification.py:1509: UndefinedMetricWarning: Recall is ill-defined and being set to 0.0 in labels with no true samples. Use `zero_division` parameter to control this behavior.\n",
      "  _warn_prf(average, modifier, f\"{metric.capitalize()} is\", len(result))\n",
      "d:\\1. Project\\Python\\mlvenv\\Lib\\site-packages\\sklearn\\metrics\\_classification.py:1509: UndefinedMetricWarning: Recall is ill-defined and being set to 0.0 in labels with no true samples. Use `zero_division` parameter to control this behavior.\n",
      "  _warn_prf(average, modifier, f\"{metric.capitalize()} is\", len(result))\n",
      "d:\\1. Project\\Python\\mlvenv\\Lib\\site-packages\\sklearn\\metrics\\_classification.py:1509: UndefinedMetricWarning: Precision is ill-defined and being set to 0.0 in labels with no predicted samples. Use `zero_division` parameter to control this behavior.\n",
      "  _warn_prf(average, modifier, f\"{metric.capitalize()} is\", len(result))\n",
      "d:\\1. Project\\Python\\mlvenv\\Lib\\site-packages\\sklearn\\metrics\\_classification.py:1509: UndefinedMetricWarning: Recall is ill-defined and being set to 0.0 in labels with no true samples. Use `zero_division` parameter to control this behavior.\n",
      "  _warn_prf(average, modifier, f\"{metric.capitalize()} is\", len(result))\n",
      "d:\\1. Project\\Python\\mlvenv\\Lib\\site-packages\\sklearn\\metrics\\_classification.py:1509: UndefinedMetricWarning: Precision is ill-defined and being set to 0.0 in labels with no predicted samples. Use `zero_division` parameter to control this behavior.\n",
      "  _warn_prf(average, modifier, f\"{metric.capitalize()} is\", len(result))\n",
      "d:\\1. Project\\Python\\mlvenv\\Lib\\site-packages\\sklearn\\metrics\\_classification.py:1509: UndefinedMetricWarning: Recall is ill-defined and being set to 0.0 in labels with no true samples. Use `zero_division` parameter to control this behavior.\n",
      "  _warn_prf(average, modifier, f\"{metric.capitalize()} is\", len(result))\n",
      "d:\\1. Project\\Python\\mlvenv\\Lib\\site-packages\\sklearn\\metrics\\_classification.py:1509: UndefinedMetricWarning: Precision is ill-defined and being set to 0.0 in labels with no predicted samples. Use `zero_division` parameter to control this behavior.\n",
      "  _warn_prf(average, modifier, f\"{metric.capitalize()} is\", len(result))\n",
      "d:\\1. Project\\Python\\mlvenv\\Lib\\site-packages\\sklearn\\metrics\\_classification.py:1509: UndefinedMetricWarning: Recall is ill-defined and being set to 0.0 in labels with no true samples. Use `zero_division` parameter to control this behavior.\n",
      "  _warn_prf(average, modifier, f\"{metric.capitalize()} is\", len(result))\n",
      "d:\\1. Project\\Python\\mlvenv\\Lib\\site-packages\\sklearn\\metrics\\_classification.py:1509: UndefinedMetricWarning: Recall is ill-defined and being set to 0.0 in labels with no true samples. Use `zero_division` parameter to control this behavior.\n",
      "  _warn_prf(average, modifier, f\"{metric.capitalize()} is\", len(result))\n",
      "d:\\1. Project\\Python\\mlvenv\\Lib\\site-packages\\sklearn\\metrics\\_classification.py:1509: UndefinedMetricWarning: Recall is ill-defined and being set to 0.0 in labels with no true samples. Use `zero_division` parameter to control this behavior.\n",
      "  _warn_prf(average, modifier, f\"{metric.capitalize()} is\", len(result))\n",
      "d:\\1. Project\\Python\\mlvenv\\Lib\\site-packages\\sklearn\\metrics\\_classification.py:1509: UndefinedMetricWarning: Recall is ill-defined and being set to 0.0 in labels with no true samples. Use `zero_division` parameter to control this behavior.\n",
      "  _warn_prf(average, modifier, f\"{metric.capitalize()} is\", len(result))\n"
     ]
    },
    {
     "name": "stdout",
     "output_type": "stream",
     "text": [
      "Evaluation results exported to .txt file\n"
     ]
    },
    {
     "name": "stderr",
     "output_type": "stream",
     "text": [
      "d:\\1. Project\\Python\\mlvenv\\Lib\\site-packages\\sklearn\\metrics\\_classification.py:386: UserWarning: A single label was found in 'y_true' and 'y_pred'. For the confusion matrix to have the correct shape, use the 'labels' parameter to pass all known labels.\n",
      "  warnings.warn(\n",
      "d:\\1. Project\\Python\\mlvenv\\Lib\\site-packages\\sklearn\\metrics\\_classification.py:1509: UndefinedMetricWarning: Recall is ill-defined and being set to 0.0 in labels with no true samples. Use `zero_division` parameter to control this behavior.\n",
      "  _warn_prf(average, modifier, f\"{metric.capitalize()} is\", len(result))\n",
      "d:\\1. Project\\Python\\mlvenv\\Lib\\site-packages\\sklearn\\metrics\\_classification.py:1509: UndefinedMetricWarning: Recall is ill-defined and being set to 0.0 in labels with no true samples. Use `zero_division` parameter to control this behavior.\n",
      "  _warn_prf(average, modifier, f\"{metric.capitalize()} is\", len(result))\n",
      "d:\\1. Project\\Python\\mlvenv\\Lib\\site-packages\\sklearn\\metrics\\_classification.py:1509: UndefinedMetricWarning: Recall is ill-defined and being set to 0.0 in labels with no true samples. Use `zero_division` parameter to control this behavior.\n",
      "  _warn_prf(average, modifier, f\"{metric.capitalize()} is\", len(result))\n"
     ]
    }
   ],
   "source": [
    "y_valid = y_bola3\n",
    "X_valid = X_bola3\n",
    "# Write results to a text file\n",
    "with open(\"output_validation_bola3_20-50.txt\", \"w\") as f:\n",
    "    for i in range(int(np.round(len(y_bola3)/50))):\n",
    "        row = i*50\n",
    "        itv = 20 + (i*50)\n",
    "        X_valid = X_bola3[row:itv,:] \n",
    "        y_valid = y_bola3[row:itv]\n",
    "\n",
    "        models['SVM'].fit(X_train,y_train)\n",
    "        y_predict1 = models['SVM'].predict(X_valid)\n",
    "        report1 = classification_report(y_valid, y_predict1)\n",
    "        cf1 = confusion_matrix(y_valid, y_predict1)\n",
    "\n",
    "        models['CART'].fit(X_train,y_train)\n",
    "        y_predict2 = models['CART'].predict(X_valid)\n",
    "        report2 = classification_report(y_valid, y_predict2)\n",
    "        cf2 = confusion_matrix(y_valid, y_predict2)\n",
    "\n",
    "        f.write(f\"=========================( {i+1} )==========================\\n\")\n",
    "        f.write(f\"Model: SVM\\n\")\n",
    "        f.write(f\"confusion matrix:\\n {cf1}\\n\")\n",
    "        f.write(f\"classification report: \\n {report1}\\n\")\n",
    "        f.write(f\"--------------------------------------\\n\")\n",
    "        f.write(f\"Model: CART\\n\")\n",
    "        f.write(f\"confusion matrix:\\n {cf2}\\n\")\n",
    "        f.write(f\"classification report: \\n {report2}\\n\")\n",
    "print(\"Evaluation results exported to .txt file\")  "
   ]
  },
  {
   "cell_type": "markdown",
   "id": "fc03785f",
   "metadata": {},
   "source": [
    "## 2. Validation for `tanpabola4.xlsx` Data"
   ]
  },
  {
   "cell_type": "code",
   "execution_count": null,
   "id": "e13377aa",
   "metadata": {},
   "outputs": [],
   "source": [
    "# Load dataset\n",
    "url = \"../../data/processed/den/tanpabola4.xlsx\"\n",
    "names = ['lam_max1', 'csc_max1', 'lam_min', 'csc_min','lam_fwhm1','c_mid','lam_max2','csc_max2','lam_fwhm2','fwhm','posisi1','posisi2','posisi3','posisi4','posisi5','arah_k','arah_E','sb_putar','sudut1','sudut2','ket'] \n",
    "dataset = read_excel(url, names=names, header=None)\n",
    "\n",
    "# Define input and output data\n",
    "X = dataset.iloc[:,0:10].values\n",
    "y = dataset.iloc[:,20].values\n"
   ]
  },
  {
   "cell_type": "code",
   "execution_count": null,
   "id": "5de05791",
   "metadata": {},
   "outputs": [],
   "source": [
    "X_train, X_valid, y_train, y_valid = train_test_split(\n",
    "    X, y, test_size=0.50,\n",
    "    random_state=2\n",
    ")\n",
    "\n",
    "print(len(y_train))\n",
    "print(len(y_valid))\n",
    "print(len(y_valid)/(len(y_train) + len(y_valid)))"
   ]
  },
  {
   "cell_type": "code",
   "execution_count": null,
   "id": "1a7a5fb4",
   "metadata": {},
   "outputs": [],
   "source": [
    "# Write results to a text file\n",
    "with open(\"output_validation_tanpabola4.txt\", \"w\") as f:\n",
    "    for name, model in models.items():\n",
    "        model.fit(X_train,y_train)\n",
    "        y_predict = model.predict(X_valid)\n",
    "        report = classification_report(y_valid, y_predict)\n",
    "        cf = confusion_matrix(y_valid, y_predict)\n",
    "\n",
    "        f.write(f\"Model: {name}\\n\")\n",
    "        f.write(f\"confusion matrix:\\n {cf}\\n\")\n",
    "        f.write(f\"classification report: \\n {report}\\n\")\n",
    "        f.write(f\"=====================================================\\n\")\n",
    "print(\"Evaluation results exported to .txt file\")  "
   ]
  },
  {
   "cell_type": "markdown",
   "id": "613098d1",
   "metadata": {},
   "source": [
    "## 3. Validation for `bola12345.xlsx` Data"
   ]
  },
  {
   "cell_type": "code",
   "execution_count": null,
   "id": "f41f8984",
   "metadata": {},
   "outputs": [],
   "source": [
    "# Load dataset\n",
    "url = \"../../data/processed/den/bola12345.xlsx\"\n",
    "names = ['lam_max1', 'csc_max1', 'lam_min', 'csc_min','lam_fwhm1','c_mid','lam_max2','csc_max2','lam_fwhm2','fwhm','posisi1','posisi2','posisi3','posisi4','posisi5','arah_k','arah_E','sb_putar','sudut1','sudut2','ket'] \n",
    "dataset = read_excel(url, names=names, header=None)\n",
    "\n",
    "# Define input and output data\n",
    "X = dataset.iloc[:,0:10].values\n",
    "y = dataset.iloc[:,20].values"
   ]
  },
  {
   "cell_type": "code",
   "execution_count": null,
   "id": "3bb2f98d",
   "metadata": {},
   "outputs": [],
   "source": [
    "X_train, X_valid, y_train, y_valid = train_test_split(\n",
    "    X, y, test_size=1,\n",
    "    random_state=2\n",
    ")\n",
    "\n",
    "print(len(y_train))\n",
    "print(len(y_valid))\n",
    "print(len(y_valid)/(len(y_train) + len(y_valid)))"
   ]
  },
  {
   "cell_type": "code",
   "execution_count": null,
   "id": "e3f58472",
   "metadata": {},
   "outputs": [],
   "source": [
    "# Write results to a text file\n",
    "with open(\"output_validation_bola12345.txt\", \"w\") as f:\n",
    "    for name, model in models.items():\n",
    "        model.fit(X_train,y_train)\n",
    "        y_predict = model.predict(X_valid)\n",
    "        report = classification_report(y_valid, y_predict)\n",
    "        cf = confusion_matrix(y_valid, y_predict)\n",
    "\n",
    "        f.write(f\"Model: {name}\\n\")\n",
    "        f.write(f\"confusion matrix:\\n {cf}\\n\")\n",
    "        f.write(f\"classification report: \\n {report}\\n\")\n",
    "        f.write(f\"=====================================================\\n\")\n",
    "print(\"Evaluation results exported to .txt file\")"
   ]
  },
  {
   "cell_type": "markdown",
   "id": "56b0cda3",
   "metadata": {},
   "source": [
    "### - Testing Experiment Data"
   ]
  },
  {
   "cell_type": "code",
   "execution_count": null,
   "id": "d28c8224",
   "metadata": {},
   "outputs": [],
   "source": [
    "# Load dataset\n",
    "url = \"../../data/processed/den/Exp_2bola.xlsx\"\n",
    "names = ['lam_max1', 'csc_max1', 'lam_min', 'csc_min','lam_fwhm1','c_mid','lam_max2','csc_max2','lam_fwhm2','fwhm','posisi1','posisi2','posisi3','posisi4','posisi5','arah_k','arah_E','sb_putar','sudut1','sudut2','ket'] \n",
    "exp = read_excel(url, names=names, header=None)\n",
    "\n",
    "# Define input and output data\n",
    "X_exp = exp.iloc[:,0:10].values\n",
    "y_exp = exp.iloc[:,20].values"
   ]
  },
  {
   "cell_type": "code",
   "execution_count": null,
   "id": "e1071e9b",
   "metadata": {},
   "outputs": [],
   "source": [
    "# Write results to a text file\n",
    "with open(\"output_validation_experiment.txt\", \"w\") as f:\n",
    "    for name, model in models.items():\n",
    "        model.fit(X_train,y_train)\n",
    "        y_predict = model.predict(X_exp)\n",
    "        report = classification_report(y_exp, y_predict)\n",
    "        cf = confusion_matrix(y_exp, y_predict)\n",
    "\n",
    "        f.write(f\"Model: {name}\\n\")\n",
    "        f.write(f\"confusion matrix:\\n {cf}\\n\")\n",
    "        f.write(f\"classification report: \\n {report}\\n\")\n",
    "        f.write(f\"=====================================================\\n\")\n",
    "print(\"Evaluation results exported to .txt file\")  "
   ]
  },
  {
   "cell_type": "code",
   "execution_count": null,
   "id": "f37313e9",
   "metadata": {},
   "outputs": [],
   "source": []
  }
 ],
 "metadata": {
  "kernelspec": {
   "display_name": "mlvenv",
   "language": "python",
   "name": "python3"
  },
  "language_info": {
   "codemirror_mode": {
    "name": "ipython",
    "version": 3
   },
   "file_extension": ".py",
   "mimetype": "text/x-python",
   "name": "python",
   "nbconvert_exporter": "python",
   "pygments_lexer": "ipython3",
   "version": "3.12.4"
  }
 },
 "nbformat": 4,
 "nbformat_minor": 5
}
