{
 "cells": [
  {
   "cell_type": "code",
   "execution_count": 4,
   "metadata": {},
   "outputs": [
    {
     "name": "stdout",
     "output_type": "stream",
     "text": [
      "Python: 3.12.3 (tags/v3.12.3:f6650f9, Apr  9 2024, 14:05:25) [MSC v.1938 64 bit (AMD64)]\n",
      "Python: <module 'scipy.version' from 'C:\\\\Users\\\\User\\\\surfinteg\\\\Lib\\\\site-packages\\\\scipy\\\\version.py'>\n",
      "Python: <module 'numpy.version' from 'C:\\\\Users\\\\User\\\\surfinteg\\\\Lib\\\\site-packages\\\\numpy\\\\version.py'>\n",
      "Python: <module 'matplotlib' from 'C:\\\\Users\\\\User\\\\surfinteg\\\\Lib\\\\site-packages\\\\matplotlib\\\\__init__.py'>\n",
      "Python: <module 'pandas' from 'C:\\\\Users\\\\User\\\\surfinteg\\\\Lib\\\\site-packages\\\\pandas\\\\__init__.py'>\n",
      "Python: <module 'sklearn' from 'C:\\\\Users\\\\User\\\\surfinteg\\\\Lib\\\\site-packages\\\\sklearn\\\\__init__.py'>\n"
     ]
    }
   ],
   "source": [
    "import sys\n",
    "print('Python: {}'.format(sys.version))\n",
    "import scipy\n",
    "print('Python: {}'.format(scipy.version))\n",
    "import numpy\n",
    "print('Python: {}'.format(numpy.version))\n",
    "import matplotlib\n",
    "print('Python: {}'.format(matplotlib))\n",
    "import pandas\n",
    "print('Python: {}'.format(pandas))\n",
    "import sklearn\n",
    "print('Python: {}'.format(sklearn))\n"
   ]
  },
  {
   "cell_type": "code",
   "execution_count": 1,
   "metadata": {},
   "outputs": [],
   "source": [
    "from pandas import read_excel\n",
    "from pandas.plotting import scatter_matrix\n",
    "from matplotlib import pyplot as plt\n",
    "from sklearn.model_selection import train_test_split\n",
    "from sklearn.model_selection import cross_val_score\n",
    "from sklearn.model_selection import StratifiedKFold\n",
    "from sklearn.metrics import classification_report\n",
    "from sklearn.metrics import confusion_matrix\n",
    "from sklearn.metrics import accuracy_score\n",
    "from sklearn.linear_model import LogisticRegression\n",
    "from sklearn.tree import DecisionTreeClassifier\n",
    "from sklearn.neighbors import KNeighborsClassifier\n",
    "from sklearn.discriminant_analysis import LinearDiscriminantAnalysis\n",
    "from sklearn.naive_bayes import GaussianNB\n",
    "from sklearn.svm import SVC"
   ]
  },
  {
   "cell_type": "code",
   "execution_count": 29,
   "metadata": {},
   "outputs": [],
   "source": [
    "# Load dataset FOR TRAINING AND TESTING tanpa 3 bola\n",
    "from pandas import read_excel\n",
    "\n",
    "url = \"D:\\\\Nazla_Innaya\\\\S2\\\\Kuliah\\\\Sem3\\\\Studi_Mandiri_II_FI6092\\\\1_5_bola\\\\tanpabola3.xlsx\"\n",
    "names = ['lam_max1', 'csc_max1', 'lam_min', 'csc_min','lam_fwhm1','c_mid','lam_max2','csc_max2','lam_fwhm2','fwhm','posisi1','posisi2','posisi3','posisi4','posisi5','arah_k','arah_E','sb_putar','sudut1','sudut2','ket'] \n",
    "dataset = read_excel(url, names=names, header=None)\n",
    "\n",
    "#print(dataset.head(10))"
   ]
  },
  {
   "cell_type": "code",
   "execution_count": 30,
   "metadata": {},
   "outputs": [
    {
     "name": "stdout",
     "output_type": "stream",
     "text": [
      "The scikit-learn version is 1.4.2.\n"
     ]
    }
   ],
   "source": [
    "import sklearn\n",
    "\n",
    "print('The scikit-learn version is {}.'.format(sklearn.__version__))"
   ]
  },
  {
   "cell_type": "code",
   "execution_count": 31,
   "metadata": {},
   "outputs": [],
   "source": [
    "import matplotlib.pyplot as plt"
   ]
  },
  {
   "cell_type": "code",
   "execution_count": 74,
   "metadata": {},
   "outputs": [
    {
     "name": "stdout",
     "output_type": "stream",
     "text": [
      "[[0 0 1 ... 1 0 0]\n",
      " [0 0 1 ... 1 1 5]\n",
      " [0 0 1 ... 1 3 0]\n",
      " ...\n",
      " [1 1 1 ... 3 6 0]\n",
      " [1 1 1 ... 3 7 5]\n",
      " [1 1 1 ... 3 9 0]]\n"
     ]
    }
   ],
   "source": [
    "# Load dataset for validation \n",
    "from pandas import read_excel\n",
    "\n",
    "url = \"D:\\\\Nazla_Innaya\\\\S2\\\\Kuliah\\\\Sem3\\\\Studi_Mandiri_II_FI6092\\\\1_5_bola\\\\3bola.xlsx\"\n",
    "names = ['lam_max1', 'csc_max1', 'lam_min', 'csc_min','lam_fwhm1','c_mid','lam_max2','csc_max2','lam_fwhm2','fwhm','posisi1','posisi2','posisi3','posisi4','posisi5','arah_k','arah_E','sb_putar','sudut1','sudut2','ket'] \n",
    "dataset2 = read_excel(url, names=names, header=None)\n",
    "\n",
    "array2 = dataset2\n",
    "#print(array[:5])\n",
    "#print()\n",
    "\n",
    "X2 = array2.iloc[:,0:4].values\n",
    "#print(X[:5])\n",
    "#print()\n",
    "\n",
    "y2 = array2.iloc[:,4].values\n",
    "#print(y[:5])\n",
    "\n",
    "Z = array2.iloc[:,10:20].values\n",
    "print(Z)"
   ]
  },
  {
   "cell_type": "code",
   "execution_count": 33,
   "metadata": {},
   "outputs": [
    {
     "name": "stdout",
     "output_type": "stream",
     "text": [
      "535\n",
      "536\n",
      "0.5004668534080299\n"
     ]
    }
   ],
   "source": [
    "# Split-out validation dataset\n",
    "array = dataset\n",
    "X = array.iloc[:,0:10].values\n",
    "y = array.iloc[:,20].values\n",
    "X_train, X_validation, Y_train, Y_validation = train_test_split(\n",
    "    X, y, test_size=0.50\n",
    "    #random_state=1\n",
    ")\n",
    "\n",
    "print(len(Y_train))\n",
    "print(len(Y_validation))\n",
    "print(len(Y_validation)/(len(Y_train) + len(Y_validation)))\n",
    "                                                                "
   ]
  },
  {
   "cell_type": "code",
   "execution_count": 34,
   "metadata": {},
   "outputs": [
    {
     "name": "stdout",
     "output_type": "stream",
     "text": [
      "LR: 0.689712 (0.004318)\n",
      "LDA: 0.803797 (0.031409)\n",
      "KNN: 0.871038 (0.005366)\n",
      "CART: 0.891616 (0.014751)\n",
      "NB: 0.581286 (0.011998)\n",
      "SVM: 0.897220 (0.012892)\n"
     ]
    }
   ],
   "source": [
    "# Spot check algorithms\n",
    "models = []\n",
    "models.append(('LR', LogisticRegression(solver='liblinear', multi_class='ovr')))\n",
    "models.append(('LDA', LinearDiscriminantAnalysis()))\n",
    "models.append(('KNN', KNeighborsClassifier()))\n",
    "models.append(('CART', DecisionTreeClassifier()))\n",
    "models.append(('NB', GaussianNB()))\n",
    "models.append(('SVM', SVC(gamma='auto')))\n",
    "\n",
    "#evaluate each model in turn\n",
    "results = []\n",
    "names = []\n",
    "for name, model in models:\n",
    "    kfold = StratifiedKFold(n_splits=2, random_state=1, shuffle=True)\n",
    "    cv_results = cross_val_score(model, X_train, Y_train, cv=kfold, scoring='accuracy')\n",
    "    results.append(cv_results)\n",
    "    names.append(name)\n",
    "    print('%s: %f (%f)' % (name, cv_results.mean(), cv_results.std()))\n",
    "    \n"
   ]
  },
  {
   "cell_type": "code",
   "execution_count": 38,
   "metadata": {},
   "outputs": [],
   "source": [
    "# Make predictions on validation dataset\n",
    "modelSVM = SVC(gamma='auto')\n",
    "modelSVM.fit(X_train, Y_train)\n",
    "predictions = modelSVM.predict(X_validation)"
   ]
  },
  {
   "cell_type": "code",
   "execution_count": 39,
   "metadata": {},
   "outputs": [
    {
     "name": "stdout",
     "output_type": "stream",
     "text": [
      "accuracy =  0.9104477611940298\n",
      "\n",
      "confusion matrix =\n",
      " [[188   0  33]\n",
      " [  0  90   6]\n",
      " [  5   4 210]]\n",
      "\n",
      "report = \n",
      "               precision    recall  f1-score   support\n",
      "\n",
      "           0       0.97      0.85      0.91       221\n",
      "           1       0.96      0.94      0.95        96\n",
      "           2       0.84      0.96      0.90       219\n",
      "\n",
      "    accuracy                           0.91       536\n",
      "   macro avg       0.92      0.92      0.92       536\n",
      "weighted avg       0.92      0.91      0.91       536\n",
      "\n"
     ]
    }
   ],
   "source": [
    "# Evaluate predictions using SVM\n",
    "print(\"accuracy = \",\n",
    "     accuracy_score(\n",
    "         Y_validation, predictions))\n",
    "cf = confusion_matrix(Y_validation, predictions)\n",
    "print(\"\\nconfusion matrix =\\n\", cf)\n",
    "\n",
    "print(\"\\nreport = \\n\", \n",
    "     classification_report(\n",
    "         Y_validation, predictions))"
   ]
  },
  {
   "cell_type": "code",
   "execution_count": 40,
   "metadata": {},
   "outputs": [
    {
     "name": "stdout",
     "output_type": "stream",
     "text": [
      "accurancy =  0.8955223880597015\n",
      "\n",
      "confusion matrix =\n",
      " [[195   0  26]\n",
      " [  0  92   4]\n",
      " [ 26   0 193]]\n",
      "\n",
      "report = \n",
      "               precision    recall  f1-score   support\n",
      "\n",
      "           0       0.88      0.88      0.88       221\n",
      "           1       1.00      0.96      0.98        96\n",
      "           2       0.87      0.88      0.87       219\n",
      "\n",
      "    accuracy                           0.90       536\n",
      "   macro avg       0.92      0.91      0.91       536\n",
      "weighted avg       0.90      0.90      0.90       536\n",
      "\n"
     ]
    }
   ],
   "source": [
    "# Make predictions using CART\n",
    "modelCART = DecisionTreeClassifier()\n",
    "modelCART.fit(X_train, Y_train)\n",
    "predictions = modelCART.predict(X_validation)\n",
    "\n",
    "# Evaluate predictions\n",
    "print(\"accurancy = \",\n",
    "     accuracy_score(\n",
    "         Y_validation, predictions))\n",
    "print(\"\\nconfusion matrix =\\n\",\n",
    "     confusion_matrix(\n",
    "         Y_validation, predictions))\n",
    "print(\"\\nreport = \\n\", \n",
    "     classification_report(\n",
    "         Y_validation, predictions))"
   ]
  },
  {
   "cell_type": "code",
   "execution_count": 41,
   "metadata": {},
   "outputs": [
    {
     "name": "stdout",
     "output_type": "stream",
     "text": [
      "[2 2 2 2 2 2 2 2 2 2 2 2 2 2 2 2 2 2 2 2 2]\n",
      "[2 2 2 2 2 2 2 2 2 2 2 2 2 1 1 1 1 1 1 1 1]\n",
      "[2 2 2 2 2 2 2 2 2 2 2 2 2 2]\n",
      "[1 1 2 2 2 2 2 2 2 2 2 2 2 2]\n",
      "[2 0 0 0 0 0 0 0 0 0 0 0 2 2]\n",
      "[0 0 0 0 0 0 0 0 0 0 0 0 0 0]\n",
      "[2 2 2 1 1 1 1 1 1 1 1 2 2 2 2 2 2 1]\n",
      "[1 1 1 1 1 1 1 1 1 1 1 1 1 1 1 1 1 1]\n"
     ]
    }
   ],
   "source": [
    "#X = array.iloc[:,0:10].values\n",
    "#y = array.iloc[:,20].values\n",
    "X_test1 = array2.iloc[50:71,0:10].values\n",
    "y_test1 = array2.iloc[50:71:,20].values\n",
    "X_test2 = array2.iloc[187:201,0:10].values\n",
    "y_test2 = array2.iloc[187:201:,20].values\n",
    "X_test3 = array2.iloc[333:347,0:10].values\n",
    "y_test3 = array2.iloc[333:347:,20].values\n",
    "X_test4 = array2.iloc[501:519,0:10].values\n",
    "y_test4 = array2.iloc[501:519:,20].values\n",
    "\n",
    "predictions = modelSVM.predict(X_test1)\n",
    "print(predictions)\n",
    "print(y_test1)\n",
    "\n",
    "predictions = modelSVM.predict(X_test2)\n",
    "print(predictions)\n",
    "print(y_test2)\n",
    "\n",
    "predictions = modelSVM.predict(X_test3)\n",
    "print(predictions)\n",
    "print(y_test3)\n",
    "\n",
    "predictions = modelSVM.predict(X_test4)\n",
    "print(predictions)\n",
    "print(y_test4)"
   ]
  },
  {
   "cell_type": "code",
   "execution_count": 75,
   "metadata": {},
   "outputs": [
    {
     "name": "stdout",
     "output_type": "stream",
     "text": [
      "[1 1 1 1 1 1 2 1 1 1 2 2 2 2 2 2 2 2 2 2 2]\n",
      "[2 2 2 2 2 2 2 2 2 2 2 2 2 1 1 1 1 1 1 1 1]\n",
      "[0 0 1 1 1 1 1 1 1 1 1 1 2 1 1 2 1 1 1 2 1]\n",
      "[1 1 2 2 2 2 2 2 2 2 2 2 2 2 2 2 2 2 2 2 2]\n",
      "[0 0 0 0 0 0 0 0 0 0 0 0 0 0 1 1 0 0 0 0 0]\n",
      "[0 0 0 0 0 0 0 0 0 0 0 0 0 0 0 0 0 0 0 0 0]\n",
      "[1 0 0 1 1 1 1 1 1 1 1 1 1 1 1 1 0 1 1 1 1]\n",
      "[1 1 1 1 1 1 1 1 1 1 1 1 1 1 1 1 1 1 1 1 1]\n"
     ]
    }
   ],
   "source": [
    "#X = array.iloc[:,0:10].values\n",
    "#y = array.iloc[:,20].values\n",
    "X_test1 = array2.iloc[50:71,0:10].values\n",
    "y_test1 = array2.iloc[50:71:,20].values\n",
    "z_test1 = array2.iloc[50:71:,10:20].values\n",
    "X_test2 = array2.iloc[187:208,0:10].values\n",
    "y_test2 = array2.iloc[187:208:,20].values\n",
    "z_test2 = array2.iloc[187:208:,10:20].values\n",
    "X_test3 = array2.iloc[333:354,0:10].values\n",
    "y_test3 = array2.iloc[333:354:,20].values\n",
    "z_test3 = array2.iloc[333:354:,10:20].values\n",
    "X_test4 = array2.iloc[501:522,0:10].values\n",
    "y_test4 = array2.iloc[501:522:,20].values\n",
    "z_test4 = array2.iloc[501:522:,10:20].values\n",
    "\n",
    "predictions = modelCART.predict(X_test1)\n",
    "print(predictions)\n",
    "print(y_test1)\n",
    "\n",
    "predictions = modelCART.predict(X_test2)\n",
    "print(predictions)\n",
    "print(y_test2)\n",
    "\n",
    "predictions = modelCART.predict(X_test3)\n",
    "print(predictions)\n",
    "print(y_test3)\n",
    "\n",
    "predictions = modelCART.predict(X_test4)\n",
    "print(predictions)\n",
    "print(y_test4)\n",
    "\n"
   ]
  },
  {
   "cell_type": "code",
   "execution_count": 76,
   "metadata": {},
   "outputs": [
    {
     "name": "stdout",
     "output_type": "stream",
     "text": [
      "[1 1 1 1 1 1 2 1 1 1 2 2 2 2 2 2 2 2 2 2 2 0 0 1 1 1 1 1 1 1 1 1 1 2 1 1 2\n",
      " 1 1 1 2 1 0 0 0 0 0 0 0 0 0 0 0 0 0 0 1 1 0 0 0 0 0 1 0 0 1 1 1 1 1 1 1 1\n",
      " 1 1 1 1 1 0 1 1 1 1]\n",
      "[2 2 2 2 2 2 2 2 2 2 2 2 2 1 1 1 1 1 1 1 1 1 1 2 2 2 2 2 2 2 2 2 2 2 2 2 2\n",
      " 2 2 2 2 2 0 0 0 0 0 0 0 0 0 0 0 0 0 0 0 0 0 0 0 0 0 1 1 1 1 1 1 1 1 1 1 1\n",
      " 1 1 1 1 1 1 1 1 1 1]\n",
      "accurancy =  0.5238095238095238\n",
      "\n",
      "confusion matrix =\n",
      " [[19  2  0]\n",
      " [ 5 18  8]\n",
      " [ 0 25  7]]\n",
      "\n",
      "report = \n",
      "               precision    recall  f1-score   support\n",
      "\n",
      "           0       0.79      0.90      0.84        21\n",
      "           1       0.40      0.58      0.47        31\n",
      "           2       0.47      0.22      0.30        32\n",
      "\n",
      "    accuracy                           0.52        84\n",
      "   macro avg       0.55      0.57      0.54        84\n",
      "weighted avg       0.52      0.52      0.50        84\n",
      "\n"
     ]
    }
   ],
   "source": [
    "X_tests=np.concatenate((X_test1,X_test2,X_test3,X_test4))\n",
    "y_tests=np.concatenate((y_test1,y_test2,y_test3,y_test4))\n",
    "z_tests=np.concatenate((z_test1,z_test2,z_test3,z_test4))\n",
    "predictionsCART = modelCART.predict(X_tests)\n",
    "print(predictionsCART)\n",
    "print(y_tests)\n",
    "\n",
    "print(\"accurancy = \",\n",
    "     accuracy_score(\n",
    "         y_tests, predictionsCART))\n",
    "print(\"\\nconfusion matrix =\\n\",\n",
    "     confusion_matrix(\n",
    "         y_tests, predictionsCART))\n",
    "print(\"\\nreport = \\n\", \n",
    "     classification_report(\n",
    "         y_tests, predictionsCART))\n"
   ]
  },
  {
   "cell_type": "code",
   "execution_count": 58,
   "metadata": {},
   "outputs": [
    {
     "name": "stdout",
     "output_type": "stream",
     "text": [
      "[2 2 2 2 2 2 2 2 2 2 2 2 2 2 2 2 2 2 2 2 2 2 2 2 2 2 2 2 2 2 2 2 2 2 2 2 0\n",
      " 0 0 0 0 0 0 0 0 0 0 2 2 2 2 2 1 1 1 1 1 1 1 1 2 2 2 2 2 2 1]\n",
      "[2 2 2 2 2 2 2 2 2 2 2 2 2 1 1 1 1 1 1 1 1 1 1 2 2 2 2 2 2 2 2 2 2 2 2 0 0\n",
      " 0 0 0 0 0 0 0 0 0 0 0 0 1 1 1 1 1 1 1 1 1 1 1 1 1 1 1 1 1 1]\n",
      "accurancy =  0.6716417910447762\n",
      "\n",
      "confusion matrix =\n",
      " [[11  0  3]\n",
      " [ 0  9 19]\n",
      " [ 0  0 25]]\n",
      "\n",
      "report = \n",
      "               precision    recall  f1-score   support\n",
      "\n",
      "           0       1.00      0.79      0.88        14\n",
      "           1       1.00      0.32      0.49        28\n",
      "           2       0.53      1.00      0.69        25\n",
      "\n",
      "    accuracy                           0.67        67\n",
      "   macro avg       0.84      0.70      0.69        67\n",
      "weighted avg       0.83      0.67      0.65        67\n",
      "\n"
     ]
    }
   ],
   "source": [
    "X_tests=np.concatenate((X_test1,X_test2,X_test3,X_test4))\n",
    "y_tests=np.concatenate((y_test1,y_test2,y_test3,y_test4))\n",
    "predictionsSVM = modelSVM.predict(X_tests)\n",
    "print(predictionsSVM)\n",
    "print(y_tests)\n",
    "\n",
    "print(\"accurancy = \",\n",
    "     accuracy_score(\n",
    "         y_tests, predictionsSVM))\n",
    "print(\"\\nconfusion matrix =\\n\",\n",
    "     confusion_matrix(\n",
    "         y_tests, predictionsSVM))\n",
    "print(\"\\nreport = \\n\", \n",
    "     classification_report(\n",
    "         y_tests, predictionsSVM))"
   ]
  },
  {
   "cell_type": "markdown",
   "metadata": {},
   "source": [
    "## test"
   ]
  },
  {
   "cell_type": "code",
   "execution_count": 15,
   "metadata": {},
   "outputs": [
    {
     "name": "stdout",
     "output_type": "stream",
     "text": [
      "1071\n",
      "[0 0 0 0 0 0]\n",
      "[0 0 0 0 0 0]\n",
      "[0 2 0 2 2 0]\n",
      "[0 0 0 0 0 0]\n",
      "[0 0 0 0 0 0 0 0 0 0]\n",
      "[0 0 0 0 0 0 0 0 0 0]\n"
     ]
    }
   ],
   "source": [
    "url2 = \"D:\\\\Nazla_Innaya\\\\S2\\\\Kuliah\\\\Sem3\\\\Studi_Mandiri_II_FI6092\\\\1_5_bola\\\\tanpabola3.xlsx\"\n",
    "names2 = ['lam_max1', 'csc_max1', 'lam_min', 'csc_min','lam_fwhm1','c_mid','lam_max2','csc_max2','lam_fwhm2','fwhm','posisi1','posisi2','posisi3','posisi4','posisi5','arah_k','arah_E','sb_putar','sudut1','sudut2','ket'] \n",
    "dataset2 = read_excel(url2, names=names2, header=None)\n",
    "\n",
    "array2 = dataset2\n",
    "print(len (array2))\n",
    "X_test5 = array2.iloc[151:157,0:10].values\n",
    "y_test5 = array2.iloc[151:157:,20].values\n",
    "X_test6 = array2.iloc[11:17,0:10].values\n",
    "y_test6 = array2.iloc[11:17:,20].values\n",
    "X_test7 = array2.iloc[291:301,0:10].values\n",
    "y_test7 = array2.iloc[291:301:,20].values\n",
    "\n",
    "predictions = model.predict(X_test5)\n",
    "print(predictions)\n",
    "print(y_test5)\n",
    "\n",
    "predictions = model.predict(X_test6)\n",
    "print(predictions)\n",
    "print(y_test6)\n",
    "\n",
    "predictions = model.predict(X_test7)\n",
    "print(predictions)\n",
    "print(y_test7)\n"
   ]
  },
  {
   "cell_type": "code",
   "execution_count": 79,
   "metadata": {},
   "outputs": [
    {
     "name": "stdout",
     "output_type": "stream",
     "text": [
      "tests\t svm \t cart \t konf\n",
      "2\t2\t1\t[0 0 1 1 1]\t[3 2 2 1 5]\n",
      "2\t2\t1\t[0 0 1 1 1]\t[3 2 2 3 0]\n",
      "2\t2\t1\t[0 0 1 1 1]\t[3 2 2 4 5]\n",
      "2\t2\t1\t[0 0 1 1 1]\t[3 2 2 6 0]\n",
      "2\t2\t1\t[0 0 1 1 1]\t[3 2 2 7 5]\n",
      "2\t2\t1\t[0 0 1 1 1]\t[3 2 2 9 0]\n",
      "2\t2\t2\t[0 0 1 1 1]\t[3 2 3 0 0]\n",
      "2\t2\t1\t[0 0 1 1 1]\t[3 2 3 1 5]\n",
      "2\t2\t1\t[0 0 1 1 1]\t[3 2 3 3 0]\n",
      "2\t2\t1\t[0 0 1 1 1]\t[3 2 3 4 5]\n",
      "2\t2\t2\t[0 0 1 1 1]\t[3 2 3 6 0]\n",
      "2\t2\t2\t[0 0 1 1 1]\t[3 2 3 7 5]\n",
      "2\t2\t2\t[0 0 1 1 1]\t[3 2 3 9 0]\n",
      "1\t2\t2\t[0 1 0 1 1]\t[1 2 1 0 0]\n",
      "1\t2\t2\t[0 1 0 1 1]\t[1 2 1 1 5]\n",
      "1\t2\t2\t[0 1 0 1 1]\t[1 2 1 3 0]\n",
      "1\t2\t2\t[0 1 0 1 1]\t[1 2 1 4 5]\n",
      "1\t2\t2\t[0 1 0 1 1]\t[1 2 1 6 0]\n",
      "1\t2\t2\t[0 1 0 1 1]\t[1 2 1 7 5]\n",
      "1\t2\t2\t[0 1 0 1 1]\t[1 2 1 9 0]\n",
      "1\t2\t2\t[0 1 0 1 1]\t[1 2 3 0 0]\n",
      "1\t2\t0\t[0 1 1 0 1]\t[3 2 3 7 5]\n",
      "1\t2\t0\t[0 1 1 0 1]\t[3 2 3 9 0]\n",
      "2\t2\t1\t[0 1 1 1 0]\t[1 2 1 0 0]\n",
      "2\t2\t1\t[0 1 1 1 0]\t[1 2 1 1 5]\n",
      "2\t2\t1\t[0 1 1 1 0]\t[1 2 1 3 0]\n",
      "2\t2\t1\t[0 1 1 1 0]\t[1 2 1 4 5]\n",
      "2\t2\t1\t[0 1 1 1 0]\t[1 2 1 6 0]\n",
      "2\t2\t1\t[0 1 1 1 0]\t[1 2 1 7 5]\n",
      "2\t2\t1\t[0 1 1 1 0]\t[1 2 1 9 0]\n",
      "2\t2\t1\t[0 1 1 1 0]\t[1 2 3 0 0]\n",
      "2\t2\t1\t[0 1 1 1 0]\t[1 2 3 1 5]\n",
      "2\t2\t1\t[0 1 1 1 0]\t[1 2 3 3 0]\n",
      "2\t2\t2\t[0 1 1 1 0]\t[1 2 3 4 5]\n",
      "2\t2\t1\t[0 1 1 1 0]\t[1 2 3 6 0]\n",
      "2\t2\t1\t[0 1 1 1 0]\t[1 2 3 7 5]\n",
      "2\t0\t2\t[0 1 1 1 0]\t[1 2 3 9 0]\n",
      "2\t0\t1\t[0 1 1 1 0]\t[1 3 2 0 0]\n",
      "2\t0\t1\t[0 1 1 1 0]\t[1 3 2 1 5]\n",
      "2\t0\t1\t[0 1 1 1 0]\t[1 3 2 3 0]\n",
      "2\t0\t2\t[0 1 1 1 0]\t[1 3 2 4 5]\n",
      "2\t0\t1\t[0 1 1 1 0]\t[1 3 2 6 0]\n",
      "0\t0\t0\t[1 0 1 0 1]\t[1 3 2 6 0]\n",
      "0\t0\t0\t[1 0 1 0 1]\t[1 3 2 7 5]\n",
      "0\t0\t0\t[1 0 1 0 1]\t[1 3 2 9 0]\n",
      "0\t0\t0\t[1 0 1 0 1]\t[2 3 2 0 0]\n",
      "0\t0\t0\t[1 0 1 0 1]\t[2 3 2 1 5]\n",
      "0\t2\t0\t[1 0 1 0 1]\t[2 3 2 3 0]\n",
      "0\t2\t0\t[1 0 1 0 1]\t[2 3 2 4 5]\n",
      "0\t2\t0\t[1 0 1 0 1]\t[2 3 2 6 0]\n",
      "0\t2\t0\t[1 0 1 0 1]\t[2 3 2 7 5]\n",
      "0\t2\t0\t[1 0 1 0 1]\t[2 3 2 9 0]\n",
      "0\t1\t0\t[1 0 1 0 1]\t[2 3 3 0 0]\n",
      "0\t1\t0\t[1 0 1 0 1]\t[2 3 3 1 5]\n",
      "0\t1\t0\t[1 0 1 0 1]\t[2 3 3 3 0]\n",
      "0\t1\t0\t[1 0 1 0 1]\t[2 3 3 4 5]\n",
      "0\t1\t1\t[1 0 1 0 1]\t[2 3 3 6 0]\n",
      "0\t1\t1\t[1 0 1 0 1]\t[2 3 3 7 5]\n",
      "0\t1\t0\t[1 0 1 0 1]\t[2 3 3 9 0]\n",
      "0\t1\t0\t[1 0 1 0 1]\t[3 1 1 0 0]\n",
      "0\t2\t0\t[1 0 1 0 1]\t[3 1 1 1 5]\n",
      "0\t2\t0\t[1 0 1 0 1]\t[3 1 1 3 0]\n",
      "0\t2\t0\t[1 0 1 0 1]\t[3 1 1 4 5]\n",
      "1\t2\t1\t[1 1 0 0 1]\t[3 2 3 6 0]\n",
      "1\t2\t0\t[1 1 0 0 1]\t[3 2 3 7 5]\n",
      "1\t2\t0\t[1 1 0 0 1]\t[3 2 3 9 0]\n",
      "1\t1\t1\t[1 1 0 1 0]\t[1 2 1 0 0]\n"
     ]
    }
   ],
   "source": [
    "print('tests\\t svm \\t cart \\t konf')\n",
    "for t,s,c,z in zip(y_tests,predictionsSVM,predictionsCART,z_tests) :\n",
    "    print(t,s,c,z[0:5],z[5:], sep='\\t')"
   ]
  },
  {
   "cell_type": "code",
   "execution_count": 17,
   "metadata": {},
   "outputs": [
    {
     "name": "stdout",
     "output_type": "stream",
     "text": [
      "630\n",
      "[2 2 2 2 2 2]\n",
      "[1 1 1 1 1 1]\n",
      "[2 2 2 2 1 2]\n",
      "[2 2 2 2 2 2]\n",
      "[2 2 2 2 2 2 2 2 2 2]\n",
      "[1 1 1 1 1 1 1 1 1 1]\n"
     ]
    }
   ],
   "source": [
    "url2 = \"D:\\\\Nazla_Innaya\\\\S2\\\\Kuliah\\\\Sem3\\\\Studi_Mandiri_II_FI6092\\\\1_5_bola\\\\3bola.xlsx\"\n",
    "names2 = ['lam_max1', 'csc_max1', 'lam_min', 'csc_min','lam_fwhm1','c_mid','lam_max2','csc_max2','lam_fwhm2','fwhm','posisi1','posisi2','posisi3','posisi4','posisi5','arah_k','arah_E','sb_putar','sudut1','sudut2','ket'] \n",
    "dataset2 = read_excel(url2, names=names2, header=None)\n",
    "\n",
    "array2 = dataset2\n",
    "print(len (array2))\n",
    "X_test5 = array2.iloc[151:157,0:10].values\n",
    "y_test5 = array2.iloc[151:157:,20].values\n",
    "X_test6 = array2.iloc[11:17,0:10].values\n",
    "y_test6 = array2.iloc[11:17:,20].values\n",
    "X_test7 = array2.iloc[291:301,0:10].values\n",
    "y_test7 = array2.iloc[291:301:,20].values\n",
    "\n",
    "predictions = model.predict(X_test5)\n",
    "print(predictions)\n",
    "print(y_test5)\n",
    "\n",
    "predictions = model.predict(X_test6)\n",
    "print(predictions)\n",
    "print(y_test6)\n",
    "\n",
    "predictions = model.predict(X_test7)\n",
    "print(predictions)\n",
    "print(y_test7)\n"
   ]
  },
  {
   "cell_type": "markdown",
   "metadata": {},
   "source": [
    "## Data uji 4 bola dengan data latih tanpa 4 bola"
   ]
  },
  {
   "cell_type": "code",
   "execution_count": null,
   "metadata": {},
   "outputs": [],
   "source": []
  },
  {
   "cell_type": "code",
   "execution_count": 18,
   "metadata": {},
   "outputs": [
    {
     "name": "stdout",
     "output_type": "stream",
     "text": [
      "630\n",
      "[2 2 2 2 2 2 2 2 2 2 2 2 2 2 2 1 2 2 2 2 2 2 2 2 2 2 2 2 2 2 2 2 2 2 2 2 2\n",
      " 2 2 2 2 2 2 2 2 2 2 2 2 2 2 2 2 2 2 2 2 2 2 2 2 2 2 2 2 2 2 2 2 2 2 1 2 2\n",
      " 2 2 2 2 1 2 2 2 2 2 2 2 2 2 2 2 2 2 2 2 2 2 2 2 2 2 2 2 2 2 2 2 2 2 2 2 2\n",
      " 2 2 2 2 2 2 2 2 2 2 2 2 2 2 2 2 2 2 2 2 2 2 2 2 2 2 2 2 2 2 2 2 2 2 2 2 2\n",
      " 2 2 2 2 2 2 2 2 2 2 1 1 2 2 2 2 2 2 2 2 2 2 2 2 2 2 2 2 2 2 2 1 1 2 2 2 2\n",
      " 2 2 2 2 2 2 2 2 2 2 2 2 2 2 2 2 2 2 2 1 2 2 2 2 2 2 2 2 2 2 2 2 2 2 2 2 2\n",
      " 2 2 2 2 2 2 2 2 2 2 2 2 2 2 2 2 2 2 2 2 2 2 2 2 2 2 2 2 2 2 2 2 2 2 2 2 2\n",
      " 2 2 2 2 2 2 2 2 2 2 2 2 2 2 2 2 2 2 2 2 2 2 2 2 2 2 2 2 2 2 2 2 2 2 2 2 2\n",
      " 2 2 2 2 2 2 2 2 2 2 2 2 2 2 2 2 2 2 2 2 2 2 2 2 2 2 2 2 2 2 0 0 0 2 2 2 2\n",
      " 0 0 0 0 0 0 0 0 0 0 0 0 2 2 2 2 2 0 0 0 0 0 0 0 0 0 0 0 0 0 0 0 0 2 2 2 2\n",
      " 2 0 0 0 0 0 0 0 2 2 2 2 2 2 2 2 1 2 2 2 2 2 2 1 2 2 2 2 2 2 2 2 2 2 2 2 2\n",
      " 2 2 2 2 2 2 2 2 2 2 2 2 2 2 2 2 2 2 2 2 2 2 2 2 2 2 2 2 2 2 2 2 2 2 2 2 2\n",
      " 2 2 2 2 2 2 2 2 2 2 2 2 2 2 2 2 2 2 2 2 2 2 2 2 2 2 2 2 2 2 2 2 2 2 2 2 2\n",
      " 2 2 2 2 2 2 2 2 2 2 2 2 2 2 2 2 2 2 2 2 2 2 2 2 2 2 2 2 2 2 2 2 2 2 2 2 2\n",
      " 2 2 2 2 2 2 2 2 2 2 2 2 2 2 2 2 2 2 1 1 2 2 2 2 2 2 2 2 2 2 2 2 2 2 2 2 2\n",
      " 2 2 1 1 2 2 2 2 2 2 2 2 2 2 2 2 2 2 2 2 2 2 2 2 2 2 2 1 2 2 2 2 2 2 2 2 2\n",
      " 2 2 2 2 2 2 2 2 2 2 2 2 2 2 2 2 2 2 2 2 2 2 2 2 2 2 2 2 2 2 2 2 2 2 2 2 2\n",
      " 2]\n",
      "[2 2 2 2 2 2 2 2 2 2 2 2 2 2 2 2 2 2 2 2 2 2 2 2 2 2 2 2 2 2 2 2 2 2 2 2 2\n",
      " 2 2 2 2 2 2 2 2 2 2 2 2 2 2 2 2 2 2 2 2 2 2 2 2 2 2 1 1 1 1 1 1 1 1 1 1 1\n",
      " 1 1 1 1 1 1 1 1 1 1 1 1 1 1 1 1 1 1 1 1 1 1 1 1 1 1 1 1 1 1 1 1 1 1 1 1 1\n",
      " 1 1 1 1 1 1 1 1 1 1 1 1 1 1 1 1 1 1 1 1 1 1 1 1 1 1 1 1 1 1 1 1 1 1 1 1 1\n",
      " 1 1 1 1 1 1 1 1 1 1 1 1 1 1 1 1 1 1 1 1 1 1 1 1 1 1 1 1 1 1 1 1 1 1 1 1 1\n",
      " 1 1 1 1 2 2 2 2 2 2 2 2 2 2 2 2 2 2 2 2 2 2 2 2 2 2 2 2 2 2 2 2 2 2 2 2 2\n",
      " 2 2 2 2 2 2 2 2 2 2 2 2 2 2 2 2 2 2 2 2 2 2 2 2 2 2 2 2 2 2 1 1 1 1 1 1 1\n",
      " 1 1 1 1 1 1 1 1 1 1 1 1 1 1 1 1 1 1 1 1 1 1 1 1 1 1 1 1 1 1 1 1 1 1 1 1 1\n",
      " 1 1 1 1 1 1 1 1 1 1 1 1 1 1 1 1 1 1 1 0 0 0 0 0 0 0 0 0 0 0 0 0 0 0 0 0 0\n",
      " 0 0 0 0 0 0 0 0 0 0 0 0 0 0 0 0 0 0 0 0 0 0 0 0 0 0 0 0 0 0 0 0 0 0 0 0 0\n",
      " 0 0 0 0 0 0 0 0 1 1 1 1 1 1 1 1 1 1 1 1 1 1 1 1 1 1 1 1 1 1 1 1 1 1 1 1 1\n",
      " 1 1 1 1 1 1 1 1 1 1 1 1 1 1 1 1 1 1 1 1 1 1 1 1 1 1 1 1 1 1 1 1 1 1 1 1 1\n",
      " 1 1 1 1 1 1 1 1 1 1 1 1 1 1 1 1 1 1 1 1 1 1 1 1 1 1 1 1 1 1 1 1 1 1 1 1 1\n",
      " 1 1 1 1 1 1 1 1 1 1 1 1 1 1 1 1 1 1 1 1 1 1 1 1 1 1 1 1 1 1 1 1 1 1 1 1 1\n",
      " 1 1 1 1 1 1 1 1 1 1 1 1 1 1 1 1 1 1 1 1 1 1 1 1 1 1 1 1 1 1 1 1 1 1 1 1 1\n",
      " 1 1 1 1 1 1 1 1 1 1 1 1 2 2 2 2 2 2 2 2 2 2 2 2 2 2 2 2 2 2 2 2 2 2 2 2 2\n",
      " 2 2 2 2 2 2 2 2 2 2 2 2 2 2 2 2 2 2 2 2 2 2 2 2 2 2 2 2 2 2 2 2 2 2 2 2 2\n",
      " 2]\n",
      "accurancy =  0.3746031746031746\n",
      "\n",
      "confusion matrix =\n",
      " [[ 38   0  25]\n",
      " [  0  12 366]\n",
      " [  0   3 186]]\n",
      "\n",
      "report = \n",
      "               precision    recall  f1-score   support\n",
      "\n",
      "           0       1.00      0.60      0.75        63\n",
      "           1       0.80      0.03      0.06       378\n",
      "           2       0.32      0.98      0.49       189\n",
      "\n",
      "    accuracy                           0.37       630\n",
      "   macro avg       0.71      0.54      0.43       630\n",
      "weighted avg       0.68      0.37      0.26       630\n",
      "\n"
     ]
    }
   ],
   "source": [
    "url2 = \"D:\\\\Nazla_Innaya\\\\S2\\\\Kuliah\\\\Sem3\\\\Studi_Mandiri_II_FI6092\\\\1_5_bola\\\\3bola.xlsx\"\n",
    "names2 = ['lam_max1', 'csc_max1', 'lam_min', 'csc_min','lam_fwhm1','c_mid','lam_max2','csc_max2','lam_fwhm2','fwhm','posisi1','posisi2','posisi3','posisi4','posisi5','arah_k','arah_E','sb_putar','sudut1','sudut2','ket'] \n",
    "dataset2 = read_excel(url2, names=names2, header=None)\n",
    "\n",
    "array2 = dataset2\n",
    "print(len (array2))\n",
    "X_test8 = array2.iloc[:,0:10].values\n",
    "y_test8 = array2.iloc[::,20].values\n",
    "\n",
    "predictions = model.predict(X_test8)\n",
    "print(predictions)\n",
    "print(y_test8)\n",
    "\n",
    "# Evaluate predictions using SVM\n",
    "print(\"accurancy = \",\n",
    "     accuracy_score(\n",
    "         y_test8, predictions))\n",
    "cf = confusion_matrix(y_test8, predictions)\n",
    "print(\"\\nconfusion matrix =\\n\", cf)\n",
    "\n",
    "print(\"\\nreport = \\n\", \n",
    "     classification_report(\n",
    "         y_test8, predictions))"
   ]
  },
  {
   "cell_type": "code",
   "execution_count": null,
   "metadata": {},
   "outputs": [],
   "source": []
  },
  {
   "cell_type": "code",
   "execution_count": null,
   "metadata": {},
   "outputs": [],
   "source": []
  }
 ],
 "metadata": {
  "kernelspec": {
   "display_name": "Python 3 (ipykernel)",
   "language": "python",
   "name": "python3"
  },
  "language_info": {
   "codemirror_mode": {
    "name": "ipython",
    "version": 3
   },
   "file_extension": ".py",
   "mimetype": "text/x-python",
   "name": "python",
   "nbconvert_exporter": "python",
   "pygments_lexer": "ipython3",
   "version": "3.12.3"
  }
 },
 "nbformat": 4,
 "nbformat_minor": 4
}
