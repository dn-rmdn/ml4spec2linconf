{
 "cells": [
  {
   "cell_type": "code",
   "execution_count": 4,
   "metadata": {},
   "outputs": [
    {
     "name": "stdout",
     "output_type": "stream",
     "text": [
      "Python: 3.12.3 (tags/v3.12.3:f6650f9, Apr  9 2024, 14:05:25) [MSC v.1938 64 bit (AMD64)]\n",
      "Python: <module 'scipy.version' from 'C:\\\\Users\\\\User\\\\surfinteg\\\\Lib\\\\site-packages\\\\scipy\\\\version.py'>\n",
      "Python: <module 'numpy.version' from 'C:\\\\Users\\\\User\\\\surfinteg\\\\Lib\\\\site-packages\\\\numpy\\\\version.py'>\n",
      "Python: <module 'matplotlib' from 'C:\\\\Users\\\\User\\\\surfinteg\\\\Lib\\\\site-packages\\\\matplotlib\\\\__init__.py'>\n",
      "Python: <module 'pandas' from 'C:\\\\Users\\\\User\\\\surfinteg\\\\Lib\\\\site-packages\\\\pandas\\\\__init__.py'>\n",
      "Python: <module 'sklearn' from 'C:\\\\Users\\\\User\\\\surfinteg\\\\Lib\\\\site-packages\\\\sklearn\\\\__init__.py'>\n"
     ]
    }
   ],
   "source": [
    "import sys\n",
    "print('Python: {}'.format(sys.version))\n",
    "import scipy\n",
    "print('Python: {}'.format(scipy.version))\n",
    "import numpy\n",
    "print('Python: {}'.format(numpy.version))\n",
    "import matplotlib\n",
    "print('Python: {}'.format(matplotlib))\n",
    "import pandas\n",
    "print('Python: {}'.format(pandas))\n",
    "import sklearn\n",
    "print('Python: {}'.format(sklearn))\n"
   ]
  },
  {
   "cell_type": "code",
   "execution_count": 1,
   "metadata": {},
   "outputs": [],
   "source": [
    "from pandas import read_excel\n",
    "from pandas.plotting import scatter_matrix\n",
    "from matplotlib import pyplot as plt\n",
    "from sklearn.model_selection import train_test_split\n",
    "from sklearn.model_selection import cross_val_score\n",
    "from sklearn.model_selection import StratifiedKFold\n",
    "from sklearn.metrics import classification_report\n",
    "from sklearn.metrics import confusion_matrix\n",
    "from sklearn.metrics import accuracy_score\n",
    "from sklearn.linear_model import LogisticRegression\n",
    "from sklearn.tree import DecisionTreeClassifier\n",
    "from sklearn.neighbors import KNeighborsClassifier\n",
    "from sklearn.discriminant_analysis import LinearDiscriminantAnalysis\n",
    "from sklearn.naive_bayes import GaussianNB\n",
    "from sklearn.svm import SVC"
   ]
  },
  {
   "cell_type": "code",
   "execution_count": 2,
   "metadata": {},
   "outputs": [
    {
     "name": "stdout",
     "output_type": "stream",
     "text": [
      "   lam_max1      csc_max1  lam_min       csc_min  lam_fwhm1         c_mid  \\\n",
      "0       408  2.774638e-14      434  2.264798e-14        464  4.239645e-14   \n",
      "1       410  2.984472e-14      432  2.725996e-14        464  4.555423e-14   \n",
      "2       362  2.400898e-14      390  1.436011e-14        442  4.153600e-14   \n",
      "3       364  2.971955e-14      392  1.702803e-14        412  4.696978e-14   \n",
      "4       366  3.552294e-14      392  1.962838e-14        412  5.500586e-14   \n",
      "5       366  3.979963e-14      392  2.153163e-14        412  6.262032e-14   \n",
      "6       408  1.600910e-14      430  1.309086e-14        454  2.136122e-14   \n",
      "7       408  2.774638e-14      434  2.264798e-14        464  4.239645e-14   \n",
      "8       410  2.984472e-14      432  2.725996e-14        464  4.555423e-14   \n",
      "9       362  2.400898e-14      390  1.436011e-14        442  4.153600e-14   \n",
      "\n",
      "   lam_max2      csc_max2  lam_fwhm2  fwhm  ...  posisi2  posisi3  posisi4  \\\n",
      "0       474  6.214492e-14        484    20  ...        0        0        0   \n",
      "1       474  6.384849e-14        484    20  ...        0        0        0   \n",
      "2       472  6.871189e-14        488    46  ...        0        0        0   \n",
      "3       470  7.691152e-14        488    76  ...        0        0        0   \n",
      "4       462  9.038334e-14        488    76  ...        0        0        0   \n",
      "5       460  1.037090e-13        486    74  ...        0        0        0   \n",
      "6       462  2.963157e-14        470    16  ...        0        0        0   \n",
      "7       474  6.214492e-14        484    20  ...        0        0        0   \n",
      "8       474  6.384849e-14        484    20  ...        0        0        0   \n",
      "9       472  6.871189e-14        488    46  ...        0        0        0   \n",
      "\n",
      "   posisi5  arah_k  arah_E  sb_putar  sudut1  sudut2  ket  \n",
      "0        0       1       2         1       0       0    0  \n",
      "1        0       1       2         1       1       5    0  \n",
      "2        0       1       2         1       3       0    0  \n",
      "3        0       1       2         1       4       5    0  \n",
      "4        0       1       2         1       6       0    0  \n",
      "5        0       1       2         1       7       5    0  \n",
      "6        0       1       2         1       9       0    0  \n",
      "7        0       1       2         3       0       0    0  \n",
      "8        0       1       2         3       1       5    0  \n",
      "9        0       1       2         3       3       0    0  \n",
      "\n",
      "[10 rows x 21 columns]\n"
     ]
    }
   ],
   "source": [
    "# Load dataset\n",
    "from pandas import read_excel\n",
    "\n",
    "url = \"D:\\\\Nazla_Innaya\\\\S2\\\\Kuliah\\\\Sem3\\\\Studi_Mandiri_II_FI6092\\\\1_5_bola\\\\tanpabola4.xlsx\"\n",
    "names = ['lam_max1', 'csc_max1', 'lam_min', 'csc_min','lam_fwhm1','c_mid','lam_max2','csc_max2','lam_fwhm2','fwhm','posisi1','posisi2','posisi3','posisi4','posisi5','arah_k','arah_E','sb_putar','sudut1','sudut2','ket'] \n",
    "dataset = read_excel(url, names=names, header=None)\n",
    "\n",
    "print(dataset.head(10))"
   ]
  },
  {
   "cell_type": "code",
   "execution_count": 13,
   "metadata": {},
   "outputs": [
    {
     "name": "stdout",
     "output_type": "stream",
     "text": [
      "The scikit-learn version is 1.4.2.\n"
     ]
    }
   ],
   "source": [
    "import sklearn\n",
    "from sklearn.datasets import load_diabetes\n",
    "X, y = load_diabetes(return_X_y=True)\n",
    "\n",
    "print('The scikit-learn version is {}.'.format(sklearn.__version__))"
   ]
  },
  {
   "cell_type": "code",
   "execution_count": 15,
   "metadata": {},
   "outputs": [],
   "source": [
    "import matplotlib.pyplot as plt"
   ]
  },
  {
   "cell_type": "code",
   "execution_count": 3,
   "metadata": {},
   "outputs": [
    {
     "name": "stdout",
     "output_type": "stream",
     "text": [
      "(63, 20)\n",
      "    lam_max1      csc_max1  lam_min       csc_min  lam_fwhm1         c_mid  \\\n",
      "53       366  3.552294e-14      392  1.962838e-14        412  5.500586e-14   \n",
      "54       366  3.979963e-14      392  2.153163e-14        412  6.262032e-14   \n",
      "55       408  1.600910e-14      430  1.309086e-14        454  2.136122e-14   \n",
      "56       408  2.774638e-14      434  2.264798e-14        464  4.239645e-14   \n",
      "57       410  2.984472e-14      432  2.725996e-14        464  4.555423e-14   \n",
      "58       362  2.400898e-14      390  1.436011e-14        442  4.153600e-14   \n",
      "59       364  2.971955e-14      392  1.702803e-14        412  4.696978e-14   \n",
      "60       366  3.552294e-14      392  1.962838e-14        412  5.500586e-14   \n",
      "61       366  3.979963e-14      392  2.153163e-14        412  6.262032e-14   \n",
      "62       408  1.600910e-14      430  1.309086e-14        454  2.136122e-14   \n",
      "\n",
      "    lam_max2      csc_max2  lam_fwhm2  posisi1  posisi2  posisi3  posisi4  \\\n",
      "53       462  9.038334e-14        488        1        0        0        0   \n",
      "54       460  1.037090e-13        486        1        0        0        0   \n",
      "55       462  2.963157e-14        470        1        0        0        0   \n",
      "56       474  6.214492e-14        484        1        0        0        0   \n",
      "57       474  6.384849e-14        484        1        0        0        0   \n",
      "58       472  6.871189e-14        488        1        0        0        0   \n",
      "59       470  7.691152e-14        488        1        0        0        0   \n",
      "60       462  9.038334e-14        488        1        0        0        0   \n",
      "61       460  1.037090e-13        486        1        0        0        0   \n",
      "62       462  2.963157e-14        470        1        0        0        0   \n",
      "\n",
      "    posisi5  arah_k  arah_E  sb_putar  sudut1  sudut2  ket  \n",
      "53        0       3       2         2       6       0    0  \n",
      "54        0       3       2         2       7       5    0  \n",
      "55        0       3       2         2       9       0    0  \n",
      "56        0       3       2         3       0       0    0  \n",
      "57        0       3       2         3       1       5    0  \n",
      "58        0       3       2         3       3       0    0  \n",
      "59        0       3       2         3       4       5    0  \n",
      "60        0       3       2         3       6       0    0  \n",
      "61        0       3       2         3       7       5    0  \n",
      "62        0       3       2         3       9       0    0  \n"
     ]
    }
   ],
   "source": [
    "# Load dataset\n",
    "from pandas import read_excel\n",
    "\n",
    "url = \"D:\\\\Nazla_Innaya\\\\S2\\\\Kuliah\\\\Sem3\\\\Studi_Mandiri_II_FI6092\\\\1_5_bola\\\\1bola.xlsx\"\n",
    "names = ['lam_max1', 'csc_max1', 'lam_min', 'csc_min','lam_fwhm1','c_mid','lam_max2','csc_max2','lam_fwhm2','fwhm','posisi1','posisi2','posisi3','posisi4','posisi5','arah_k','arah_E','sb_putar','sudut1','sudut2','ket'] \n",
    "dataset = read_excel(url, names=names, header=None)\n",
    "\n",
    "#shape\n",
    "print(dataset.shape)\n",
    "\n",
    "#head\n",
    "print(dataset.tail(10))"
   ]
  },
  {
   "cell_type": "code",
   "execution_count": 4,
   "metadata": {},
   "outputs": [
    {
     "name": "stdout",
     "output_type": "stream",
     "text": [
      "Series([], dtype: int64)\n"
     ]
    }
   ],
   "source": [
    "# Load dataset\n",
    "from pandas import read_excel\n",
    "\n",
    "url = \"D:\\\\Nazla_Innaya\\\\S2\\\\Kuliah\\\\Sem3\\\\Studi_Mandiri_II_FI6092\\\\1_5_bola\\\\5bola.xlsx\"\n",
    "names = ['lam_max1', 'csc_max1', 'lam_min', 'csc_min','lam_fwhm1','c_mid','lam_max2','csc_max2','lam_fwhm2','fwhm','posisi1','posisi2','posisi3','posisi4','posisi5','arah_k','arah_E','sb_putar','sudut1','sudut2','ket'] \n",
    "dataset = read_excel(url, names=names, header=None)\n",
    "\n",
    "#descriptions\n",
    "#print(dataset.describe())\n",
    "\n",
    "#class distribution\n",
    "print(dataset.groupby('ket').size())\n"
   ]
  },
  {
   "cell_type": "code",
   "execution_count": 3,
   "metadata": {},
   "outputs": [
    {
     "data": {
      "image/png": "[encoded data removed]",
      "text/plain": [
       "<Figure size 640x480 with 25 Axes>"
      ]
     },
     "metadata": {},
     "output_type": "display_data"
    }
   ],
   "source": [
    "# Load dataset\n",
    "from pandas import read_excel\n",
    "\n",
    "url = \"D:\\\\Nazla_Innaya\\\\S2\\\\Kuliah\\\\Sem3\\\\Studi_Mandiri_II_FI6092\\\\1_5_bola\\\\1_5_bola.xlsx\"\n",
    "names = ['lam_max1', 'csc_max1', 'lam_min', 'csc_min','lam_fwhm1','c_mid','lam_max2','csc_max2','lam_fwhm2','fwhm','posisi1','posisi2','posisi3','posisi4','posisi5','arah_k','arah_E','sb_putar','sudut1','sudut2','ket'] \n",
    "dataset = read_excel(url, names=names, header=None)\n",
    "\n",
    "# Scatter plot matrix\n",
    "import matplotlib.pyplot as plt\n",
    "#scatter_matrix(dataset[['lam_max1', 'csc_max1', 'lam_min', 'csc_min','lam_fwhm1','c_mid','lam_max2','csc_max2','lam_fwhm2','ket']])\n",
    "scatter_matrix(dataset[['lam_max1', 'lam_fwhm1','lam_max2','lam_fwhm2','ket']])\n",
    "plt.show()"
   ]
  },
  {
   "cell_type": "code",
   "execution_count": 4,
   "metadata": {},
   "outputs": [
    {
     "name": "stdout",
     "output_type": "stream",
     "text": [
      "ket\n",
      "0    504\n",
      "1    567\n",
      "2    630\n",
      "dtype: int64\n"
     ]
    },
    {
     "data": {
      "image/png": "[encoded data removed]",
      "text/plain": [
       "<Figure size 640x480 with 16 Axes>"
      ]
     },
     "metadata": {},
     "output_type": "display_data"
    }
   ],
   "source": [
    "# Load dataset\n",
    "from pandas import read_excel\n",
    "\n",
    "url = \"D:\\\\Nazla_Innaya\\\\S2\\\\Kuliah\\\\Sem3\\\\Studi_Mandiri_II_FI6092\\\\1_5_bola\\\\1_5_bola.xlsx\"\n",
    "names = ['lam_max1', 'csc_max1', 'lam_min', 'csc_min','lam_fwhm1','c_mid','lam_max2','csc_max2','lam_fwhm2','fwhm','posisi1','posisi2','posisi3','posisi4','posisi5','arah_k','arah_E','sb_putar','sudut1','sudut2','ket'] \n",
    "dataset = read_excel(url, names=names, header=None)\n",
    "\n",
    "#fwhm = lam_fwhm2 - lam_fwhm1\n",
    "\n",
    "#class distribution\n",
    "print(dataset.groupby('ket').size())\n",
    "\n",
    "# Scatter plot matrix\n",
    "import matplotlib.pyplot as plt\n",
    "#scatter_matrix(dataset[['lam_max1', 'csc_max1', 'lam_min', 'csc_min','lam_fwhm1','c_mid','lam_max2','csc_max2','lam_fwhm2','ket']])\n",
    "scatter_matrix(dataset[['lam_max1','lam_max2','fwhm','ket']])\n",
    "plt.show()"
   ]
  },
  {
   "cell_type": "code",
   "execution_count": 3,
   "metadata": {},
   "outputs": [
    {
     "name": "stdout",
     "output_type": "stream",
     "text": [
      "   lam_max1      csc_max1  lam_min       csc_min  lam_fwhm1         c_mid  \\\n",
      "0       408  2.774638e-14      434  2.264798e-14        464  4.239645e-14   \n",
      "1       410  2.984472e-14      432  2.725996e-14        464  4.555423e-14   \n",
      "2       362  2.400898e-14      390  1.436011e-14        442  4.153600e-14   \n",
      "3       364  2.971955e-14      392  1.702803e-14        412  4.696978e-14   \n",
      "4       366  3.552294e-14      392  1.962838e-14        412  5.500586e-14   \n",
      "\n",
      "   lam_max2      csc_max2  lam_fwhm2  fwhm  ...  posisi2  posisi3  posisi4  \\\n",
      "0       474  6.214492e-14        484    20  ...        0        0        0   \n",
      "1       474  6.384849e-14        484    20  ...        0        0        0   \n",
      "2       472  6.871189e-14        488    46  ...        0        0        0   \n",
      "3       470  7.691152e-14        488    76  ...        0        0        0   \n",
      "4       462  9.038334e-14        488    76  ...        0        0        0   \n",
      "\n",
      "   posisi5  arah_k  arah_E  sb_putar  sudut1  sudut2  ket  \n",
      "0        0       1       2         1       0       0    0  \n",
      "1        0       1       2         1       1       5    0  \n",
      "2        0       1       2         1       3       0    0  \n",
      "3        0       1       2         1       4       5    0  \n",
      "4        0       1       2         1       6       0    0  \n",
      "\n",
      "[5 rows x 21 columns]\n",
      "\n",
      "[[4.08000000e+02 2.77463820e-14 4.34000000e+02 2.26479766e-14]\n",
      " [4.10000000e+02 2.98447223e-14 4.32000000e+02 2.72599618e-14]\n",
      " [3.62000000e+02 2.40089764e-14 3.90000000e+02 1.43601146e-14]\n",
      " [3.64000000e+02 2.97195528e-14 3.92000000e+02 1.70280287e-14]\n",
      " [3.66000000e+02 3.55229449e-14 3.92000000e+02 1.96283803e-14]]\n",
      "\n",
      "[464 464 442 412 412]\n"
     ]
    }
   ],
   "source": [
    "# Load dataset\n",
    "from pandas import read_excel\n",
    "\n",
    "url = \"D:\\\\Nazla_Innaya\\\\S2\\\\Kuliah\\\\Sem3\\\\Studi_Mandiri_II_FI6092\\\\1_5_bola\\\\tanpabola4.xlsx\"\n",
    "names = ['lam_max1', 'csc_max1', 'lam_min', 'csc_min','lam_fwhm1','c_mid','lam_max2','csc_max2','lam_fwhm2','fwhm','posisi1','posisi2','posisi3','posisi4','posisi5','arah_k','arah_E','sb_putar','sudut1','sudut2','ket'] \n",
    "dataset = read_excel(url, names=names, header=None)\n",
    "\n",
    "array = dataset\n",
    "print(array[:5])\n",
    "print()\n",
    "\n",
    "X = array.iloc[:,0:4].values\n",
    "print(X[:5])\n",
    "print()\n",
    "\n",
    "y = array.iloc[:,4].values\n",
    "print(y[:5])"
   ]
  },
  {
   "cell_type": "code",
   "execution_count": 4,
   "metadata": {},
   "outputs": [
    {
     "name": "stdout",
     "output_type": "stream",
     "text": [
      "693\n",
      "693\n",
      "0.5\n"
     ]
    }
   ],
   "source": [
    "# Split-out validation dataset\n",
    "array = dataset\n",
    "X = array.iloc[:,0:10].values\n",
    "y = array.iloc[:,20].values\n",
    "X_train, X_validation, Y_train, Y_validation = train_test_split(\n",
    "    X, y, test_size=0.50,\n",
    "    random_state=1\n",
    ")\n",
    "\n",
    "print(len(Y_train))\n",
    "print(len(Y_validation))\n",
    "print(len(Y_validation)/(len(Y_train) + len(Y_validation)))\n",
    "                                                                "
   ]
  },
  {
   "cell_type": "code",
   "execution_count": 5,
   "metadata": {},
   "outputs": [
    {
     "name": "stdout",
     "output_type": "stream",
     "text": [
      "LR: 0.650789 (0.003390)\n",
      "LDA: 0.753194 (0.036431)\n",
      "KNN: 0.887462 (0.011382)\n",
      "CART: 0.924947 (0.011652)\n",
      "NB: 0.698518 (0.073158)\n",
      "SVM: 0.913420 (0.000125)\n"
     ]
    }
   ],
   "source": [
    "# Spot check algorithms\n",
    "models = []\n",
    "models.append(('LR', LogisticRegression(solver='liblinear', multi_class='ovr')))\n",
    "models.append(('LDA', LinearDiscriminantAnalysis()))\n",
    "models.append(('KNN', KNeighborsClassifier()))\n",
    "models.append(('CART', DecisionTreeClassifier()))\n",
    "models.append(('NB', GaussianNB()))\n",
    "models.append(('SVM', SVC(gamma='auto')))\n",
    "\n",
    "#evaluate each model in turn\n",
    "results = []\n",
    "names = []\n",
    "for name, model in models:\n",
    "    kfold = StratifiedKFold(n_splits=2, random_state=1, shuffle=True)\n",
    "    cv_results = cross_val_score(model, X_train, Y_train, cv=kfold, scoring='accuracy')\n",
    "    results.append(cv_results)\n",
    "    names.append(name)\n",
    "    print('%s: %f (%f)' % (name, cv_results.mean(), cv_results.std()))\n",
    "    \n"
   ]
  },
  {
   "cell_type": "code",
   "execution_count": 6,
   "metadata": {},
   "outputs": [
    {
     "data": {
      "image/png": "[encoded data removed]",
      "text/plain": [
       "<Figure size 640x480 with 1 Axes>"
      ]
     },
     "metadata": {},
     "output_type": "display_data"
    }
   ],
   "source": [
    "# Compare Algorithms\n",
    "plt.boxplot(results, labels=names)\n",
    "plt.title('Algorithm Comparison')\n",
    "plt.show()"
   ]
  },
  {
   "cell_type": "code",
   "execution_count": 8,
   "metadata": {},
   "outputs": [],
   "source": [
    "# Make predictions on validation dataset\n",
    "model = SVC(gamma='auto')\n",
    "model.fit(X_train, Y_train)\n",
    "predictions = model.predict(X_validation)"
   ]
  },
  {
   "cell_type": "code",
   "execution_count": 9,
   "metadata": {},
   "outputs": [
    {
     "name": "stdout",
     "output_type": "stream",
     "text": [
      "[0 0 2 0 0 0 1 0 1 0 2 0 2 0 0 2 1 1 1 0 1 2 1 1 2 0 0 0 1 1 2 0 0 0 0 0 2\n",
      " 0 0 2 2 0 2 1 0 2 2 2 2 0 1 0 0 2 2 0 2 2 0 2 2 1 1 0 1 0 2 0 2 2 1 0 2 2\n",
      " 1 0 0 1 1 1 0 0 0 2 0 1 0 0 2 2 2 2 0 1 1 2 0 2 0 2 2 2 2 2 1 0 1 2 0 2 1\n",
      " 2 0 0 1 1 0 1 2 2 0 2 2 2 2 2 1 0 1 1 2 0 0 2 2 0 0 1 1 1 2 0 1 1 2 2 1 0\n",
      " 0 2 2 0 2 1 2 2 1 0 2 0 0 1 1 2 1 1 0 2 2 1 2 2 0 0 2 0 2 1 2 0 2 1 0 0 1\n",
      " 0 1 2 2 2 1 2 2 2 1 0 0 0 2 1 0 1 0 1 2 0 1 1 0 0 2 1 0 2 1 2 0 2 0 2 1 0\n",
      " 0 0 2 0 2 1 2 0 0 1 2 2 2 1 2 0 0 2 2 0 2 0 2 0 2 2 0 0 2 0 0 2 2 0 0 2 0\n",
      " 0 0 2 0 2 0 0 1 2 2 1 0 2 0 0 2 0 2 2 0 2 0 1 0 1 1 0 0 1 2 0 1 0 0 2 2 0\n",
      " 2 2 1 2 1 2 1 2 1 2 1 1 1 0 0 2 0 0 2 2 1 2 1 0 2 2 1 0 1 0 2 0 1 2 2 1 1\n",
      " 1 0 0 0 2 0 0 2 1 1 2 2 2 2 0 1 2 2 1 2 1 2 2 2 1 2 2 2 1 2 2 1 1 2 1 2 2\n",
      " 1 2 0 2 1 2 0 2 1 2 0 2 1 1 1 1 0 2 2 1 1 0 1 0 1 2 0 2 2 2 0 2 2 0 2 0 2\n",
      " 1 0 2 2 0 0 2 2 0 1 2 2 2 2 0 2 2 1 1 1 2 2 0 0 0 2 1 0 0 0 0 1 0 0 1 0 1\n",
      " 0 2 2 0 0 0 1 0 1 2 0 1 0 1 0 1 0 2 2 2 0 0 0 2 2 1 2 2 1 0 1 1 1 2 1 0 0\n",
      " 1 1 0 0 1 0 2 2 1 0 2 0 0 0 0 1 0 1 2 0 2 2 1 2 0 1 1 2 0 2 2 2 2 1 1 2 2\n",
      " 2 1 0 1 2 0 0 0 0 1 0 1 1 1 1 2 0 0 0 0 2 0 0 2 1 1 0 0 2 2 1 2 1 1 0 0 2\n",
      " 0 0 0 1 0 2 2 0 1 0 2 1 2 0 2 2 0 1 0 2 0 0 2 1 1 1 0 0 0 0 2 0 0 1 0 2 0\n",
      " 2 2 2 1 2 0 2 0 0 1 2 0 0 0 2 0 1 0 2 1 0 1 2 0 0 0 2 0 2 2 0 0 0 2 1 2 0\n",
      " 1 0 1 0 1 1 2 1 2 1 0 1 1 0 0 0 2 1 2 0 2 2 1 2 2 0 0 0 2 0 1 0 0 2 1 0 2\n",
      " 2 1 1 1 2 1 2 2 1 1 0 2 1 1 2 1 0 1 2 2 0 2 2 2 1 1 2]\n"
     ]
    }
   ],
   "source": [
    "print(Y_validation)"
   ]
  },
  {
   "cell_type": "code",
   "execution_count": 10,
   "metadata": {},
   "outputs": [
    {
     "name": "stdout",
     "output_type": "stream",
     "text": [
      "[0 0 2 0 2 0 1 0 1 2 2 0 2 0 2 2 1 1 1 0 1 2 1 1 2 0 2 2 1 1 2 0 0 0 0 0 2\n",
      " 0 0 2 2 0 2 1 0 2 0 2 2 0 1 0 0 2 2 0 2 2 0 2 2 1 1 0 1 0 2 0 2 0 1 0 2 2\n",
      " 1 0 2 1 1 1 0 0 0 2 0 1 0 0 2 2 2 2 0 1 1 2 0 2 0 2 2 2 2 2 1 0 1 2 0 2 1\n",
      " 2 0 0 1 1 0 1 2 2 0 2 2 2 2 2 1 0 1 1 2 0 0 2 2 0 0 1 1 1 2 0 1 1 2 2 1 0\n",
      " 0 2 2 0 2 1 2 2 1 0 2 0 0 1 1 0 1 1 2 2 2 1 2 2 2 0 2 0 2 1 2 0 2 1 0 2 1\n",
      " 0 1 2 2 2 1 2 2 2 1 0 0 0 2 1 2 1 0 1 2 0 1 1 0 2 2 1 0 0 1 2 0 2 2 2 1 0\n",
      " 0 2 2 0 2 1 2 0 0 1 2 2 2 1 2 2 0 2 2 0 2 0 2 0 2 2 0 0 2 0 0 2 2 0 0 2 0\n",
      " 0 0 2 0 2 2 0 1 2 2 1 0 2 0 0 2 0 2 2 0 2 0 1 0 1 1 0 0 1 2 0 1 2 0 2 2 0\n",
      " 2 2 1 2 1 2 1 2 1 2 1 1 1 0 0 2 0 0 2 2 1 2 1 0 2 2 1 0 1 0 2 0 1 2 2 1 1\n",
      " 1 0 0 0 2 0 0 2 1 1 2 2 2 2 0 1 2 2 1 2 1 2 2 2 1 2 2 2 1 2 2 1 1 2 1 2 2\n",
      " 1 2 0 2 1 2 0 2 1 2 0 2 1 1 1 1 0 2 2 1 1 0 1 0 1 0 0 2 2 2 0 2 2 0 2 2 2\n",
      " 1 0 0 2 0 0 2 2 0 1 0 2 2 2 0 2 2 1 1 1 2 2 0 0 0 2 1 0 2 0 0 1 0 0 1 2 1\n",
      " 2 2 2 0 0 0 1 0 1 2 0 1 0 1 0 1 0 2 2 2 0 0 0 2 2 1 2 2 1 0 1 1 1 2 1 2 0\n",
      " 1 1 0 0 1 0 2 2 1 0 2 0 0 0 0 1 0 1 2 0 2 2 1 2 0 1 1 2 0 2 2 2 2 1 1 2 2\n",
      " 2 1 0 1 2 0 2 0 0 1 0 1 1 1 1 2 0 0 0 0 2 2 0 2 1 1 0 0 2 2 1 2 1 1 2 0 2\n",
      " 0 0 0 1 0 2 2 0 1 2 2 1 2 0 2 2 0 1 0 2 0 2 2 1 1 1 0 0 2 2 2 0 0 1 0 2 2\n",
      " 2 2 2 1 2 0 2 0 0 1 2 2 0 0 2 0 1 0 2 1 0 1 2 0 0 0 2 2 2 2 0 0 0 2 1 2 0\n",
      " 1 0 1 0 1 1 2 1 2 1 2 1 1 0 0 0 2 1 2 0 2 2 1 2 0 0 0 0 2 0 1 0 0 0 1 0 2\n",
      " 2 1 1 1 2 1 2 2 1 1 2 2 1 1 2 1 0 1 2 2 2 2 2 2 1 1 2]\n"
     ]
    }
   ],
   "source": [
    "print(predictions)"
   ]
  },
  {
   "cell_type": "code",
   "execution_count": 11,
   "metadata": {},
   "outputs": [
    {
     "name": "stdout",
     "output_type": "stream",
     "text": [
      "accurancy =  0.937950937950938\n",
      "\n",
      "confusion matrix =\n",
      " [[217   0  34]\n",
      " [  0 186   0]\n",
      " [  9   0 247]]\n",
      "\n",
      "report = \n",
      "               precision    recall  f1-score   support\n",
      "\n",
      "           0       0.96      0.86      0.91       251\n",
      "           1       1.00      1.00      1.00       186\n",
      "           2       0.88      0.96      0.92       256\n",
      "\n",
      "    accuracy                           0.94       693\n",
      "   macro avg       0.95      0.94      0.94       693\n",
      "weighted avg       0.94      0.94      0.94       693\n",
      "\n"
     ]
    }
   ],
   "source": [
    "# Evaluate predictions using SVC\n",
    "print(\"accurancy = \",\n",
    "     accuracy_score(\n",
    "         Y_validation, predictions))\n",
    "cf = confusion_matrix(Y_validation, predictions)\n",
    "print(\"\\nconfusion matrix =\\n\", cf)\n",
    "\n",
    "print(\"\\nreport = \\n\", \n",
    "     classification_report(\n",
    "         Y_validation, predictions))"
   ]
  },
  {
   "cell_type": "code",
   "execution_count": 12,
   "metadata": {},
   "outputs": [
    {
     "name": "stdout",
     "output_type": "stream",
     "text": [
      "accurancy =  0.6147186147186147\n",
      "\n",
      "confusion matrix =\n",
      " [[210   8  33]\n",
      " [ 80  39  67]\n",
      " [ 61  18 177]]\n",
      "\n",
      "report = \n",
      "               precision    recall  f1-score   support\n",
      "\n",
      "           0       0.60      0.84      0.70       251\n",
      "           1       0.60      0.21      0.31       186\n",
      "           2       0.64      0.69      0.66       256\n",
      "\n",
      "    accuracy                           0.61       693\n",
      "   macro avg       0.61      0.58      0.56       693\n",
      "weighted avg       0.61      0.61      0.58       693\n",
      "\n"
     ]
    }
   ],
   "source": [
    "# Make predictions using LR\n",
    "model = LogisticRegression(solver='liblinear', multi_class='ovr')\n",
    "model.fit(X_train, Y_train)\n",
    "predictions = model.predict(X_validation)\n",
    "\n",
    "# Evaluate predictions\n",
    "print(\"accurancy = \",\n",
    "     accuracy_score(\n",
    "         Y_validation, predictions))\n",
    "print(\"\\nconfusion matrix =\\n\",\n",
    "     confusion_matrix(\n",
    "         Y_validation, predictions))\n",
    "print(\"\\nreport = \\n\", \n",
    "     classification_report(\n",
    "         Y_validation, predictions))"
   ]
  },
  {
   "cell_type": "code",
   "execution_count": 13,
   "metadata": {},
   "outputs": [
    {
     "name": "stdout",
     "output_type": "stream",
     "text": [
      "accurancy =  0.746031746031746\n",
      "\n",
      "confusion matrix =\n",
      " [[213   8  30]\n",
      " [ 21  96  69]\n",
      " [  3  45 208]]\n",
      "\n",
      "report = \n",
      "               precision    recall  f1-score   support\n",
      "\n",
      "           0       0.90      0.85      0.87       251\n",
      "           1       0.64      0.52      0.57       186\n",
      "           2       0.68      0.81      0.74       256\n",
      "\n",
      "    accuracy                           0.75       693\n",
      "   macro avg       0.74      0.73      0.73       693\n",
      "weighted avg       0.75      0.75      0.74       693\n",
      "\n"
     ]
    }
   ],
   "source": [
    "# Make predictions using LDA\n",
    "model = LinearDiscriminantAnalysis()\n",
    "model.fit(X_train, Y_train)\n",
    "predictions = model.predict(X_validation)\n",
    "\n",
    "# Evaluate predictions\n",
    "print(\"accurancy = \",\n",
    "     accuracy_score(\n",
    "         Y_validation, predictions))\n",
    "print(\"\\nconfusion matrix =\\n\",\n",
    "     confusion_matrix(\n",
    "         Y_validation, predictions))\n",
    "print(\"\\nreport = \\n\", \n",
    "     classification_report(\n",
    "         Y_validation, predictions))"
   ]
  },
  {
   "cell_type": "code",
   "execution_count": 14,
   "metadata": {},
   "outputs": [
    {
     "name": "stdout",
     "output_type": "stream",
     "text": [
      "accurancy =  0.937950937950938\n",
      "\n",
      "confusion matrix =\n",
      " [[237   0  14]\n",
      " [  1 183   2]\n",
      " [ 20   6 230]]\n",
      "\n",
      "report = \n",
      "               precision    recall  f1-score   support\n",
      "\n",
      "           0       0.92      0.94      0.93       251\n",
      "           1       0.97      0.98      0.98       186\n",
      "           2       0.93      0.90      0.92       256\n",
      "\n",
      "    accuracy                           0.94       693\n",
      "   macro avg       0.94      0.94      0.94       693\n",
      "weighted avg       0.94      0.94      0.94       693\n",
      "\n"
     ]
    }
   ],
   "source": [
    "# Make predictions using KNN\n",
    "model = KNeighborsClassifier()\n",
    "model.fit(X_train, Y_train)\n",
    "predictions = model.predict(X_validation)\n",
    "\n",
    "# Evaluate predictions\n",
    "print(\"accurancy = \",\n",
    "     accuracy_score(\n",
    "         Y_validation, predictions))\n",
    "print(\"\\nconfusion matrix =\\n\",\n",
    "     confusion_matrix(\n",
    "         Y_validation, predictions))\n",
    "print(\"\\nreport = \\n\", \n",
    "     classification_report(\n",
    "         Y_validation, predictions))"
   ]
  },
  {
   "cell_type": "code",
   "execution_count": 15,
   "metadata": {},
   "outputs": [
    {
     "name": "stdout",
     "output_type": "stream",
     "text": [
      "accurancy =  0.9393939393939394\n",
      "\n",
      "confusion matrix =\n",
      " [[225   0  26]\n",
      " [  0 186   0]\n",
      " [ 16   0 240]]\n",
      "\n",
      "report = \n",
      "               precision    recall  f1-score   support\n",
      "\n",
      "           0       0.93      0.90      0.91       251\n",
      "           1       1.00      1.00      1.00       186\n",
      "           2       0.90      0.94      0.92       256\n",
      "\n",
      "    accuracy                           0.94       693\n",
      "   macro avg       0.95      0.94      0.94       693\n",
      "weighted avg       0.94      0.94      0.94       693\n",
      "\n"
     ]
    }
   ],
   "source": [
    "# Make predictions using CART\n",
    "model = DecisionTreeClassifier()\n",
    "model.fit(X_train, Y_train)\n",
    "predictions = model.predict(X_validation)\n",
    "\n",
    "# Evaluate predictions\n",
    "print(\"accurancy = \",\n",
    "     accuracy_score(\n",
    "         Y_validation, predictions))\n",
    "print(\"\\nconfusion matrix =\\n\",\n",
    "     confusion_matrix(\n",
    "         Y_validation, predictions))\n",
    "print(\"\\nreport = \\n\", \n",
    "     classification_report(\n",
    "         Y_validation, predictions))"
   ]
  },
  {
   "cell_type": "code",
   "execution_count": 16,
   "metadata": {},
   "outputs": [
    {
     "name": "stdout",
     "output_type": "stream",
     "text": [
      "accurancy =  0.6666666666666666\n",
      "\n",
      "confusion matrix =\n",
      " [[205  24  22]\n",
      " [ 35 150   1]\n",
      " [ 30 119 107]]\n",
      "\n",
      "report = \n",
      "               precision    recall  f1-score   support\n",
      "\n",
      "           0       0.76      0.82      0.79       251\n",
      "           1       0.51      0.81      0.63       186\n",
      "           2       0.82      0.42      0.55       256\n",
      "\n",
      "    accuracy                           0.67       693\n",
      "   macro avg       0.70      0.68      0.66       693\n",
      "weighted avg       0.72      0.67      0.66       693\n",
      "\n"
     ]
    }
   ],
   "source": [
    "# Make predictions using NB\n",
    "model = GaussianNB()\n",
    "model.fit(X_train, Y_train)\n",
    "predictions = model.predict(X_validation)\n",
    "\n",
    "# Evaluate predictions\n",
    "print(\"accurancy = \",\n",
    "     accuracy_score(\n",
    "         Y_validation, predictions))\n",
    "print(\"\\nconfusion matrix =\\n\",\n",
    "     confusion_matrix(\n",
    "         Y_validation, predictions))\n",
    "print(\"\\nreport = \\n\", \n",
    "     classification_report(\n",
    "         Y_validation, predictions))"
   ]
  },
  {
   "cell_type": "code",
   "execution_count": 18,
   "metadata": {},
   "outputs": [
    {
     "name": "stdout",
     "output_type": "stream",
     "text": [
      "[1 1 1 1 1 1 1 1 1 1 1 1 1 1 1 1 1 1 1 1 1]\n",
      "[2 2 2 2 2 2 2 2 2 2 2 2 2 2 2 2 2 2 2 2 2]\n"
     ]
    }
   ],
   "source": [
    "#X = array.iloc[:,0:10].values\n",
    "#y = array.iloc[:,20].values\n",
    "X_test = array.iloc[90:111,0:10].values\n",
    "y_test = array.iloc[90:111:,20].values\n",
    "\n",
    "predictions = model.predict(X_test)\n",
    "\n",
    "print(predictions)\n",
    "print(y_test)"
   ]
  },
  {
   "cell_type": "code",
   "execution_count": null,
   "metadata": {},
   "outputs": [],
   "source": []
  }
 ],
 "metadata": {
  "kernelspec": {
   "display_name": "Python 3 (ipykernel)",
   "language": "python",
   "name": "python3"
  },
  "language_info": {
   "codemirror_mode": {
    "name": "ipython",
    "version": 3
   },
   "file_extension": ".py",
   "mimetype": "text/x-python",
   "name": "python",
   "nbconvert_exporter": "python",
   "pygments_lexer": "ipython3",
   "version": "3.12.3"
  }
 },
 "nbformat": 4,
 "nbformat_minor": 4
}
