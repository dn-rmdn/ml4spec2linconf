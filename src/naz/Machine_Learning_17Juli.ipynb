{
 "cells": [
  {
   "cell_type": "code",
   "execution_count": 4,
   "metadata": {},
   "outputs": [
    {
     "name": "stdout",
     "output_type": "stream",
     "text": [
      "Python: 3.12.3 (tags/v3.12.3:f6650f9, Apr  9 2024, 14:05:25) [MSC v.1938 64 bit (AMD64)]\n",
      "Python: <module 'scipy.version' from 'C:\\\\Users\\\\User\\\\surfinteg\\\\Lib\\\\site-packages\\\\scipy\\\\version.py'>\n",
      "Python: <module 'numpy.version' from 'C:\\\\Users\\\\User\\\\surfinteg\\\\Lib\\\\site-packages\\\\numpy\\\\version.py'>\n",
      "Python: <module 'matplotlib' from 'C:\\\\Users\\\\User\\\\surfinteg\\\\Lib\\\\site-packages\\\\matplotlib\\\\__init__.py'>\n",
      "Python: <module 'pandas' from 'C:\\\\Users\\\\User\\\\surfinteg\\\\Lib\\\\site-packages\\\\pandas\\\\__init__.py'>\n",
      "Python: <module 'sklearn' from 'C:\\\\Users\\\\User\\\\surfinteg\\\\Lib\\\\site-packages\\\\sklearn\\\\__init__.py'>\n"
     ]
    }
   ],
   "source": [
    "import sys\n",
    "print('Python: {}'.format(sys.version))\n",
    "import scipy\n",
    "print('Python: {}'.format(scipy.version))\n",
    "import numpy\n",
    "print('Python: {}'.format(numpy.version))\n",
    "import matplotlib\n",
    "print('Python: {}'.format(matplotlib))\n",
    "import pandas\n",
    "print('Python: {}'.format(pandas))\n",
    "import sklearn\n",
    "print('Python: {}'.format(sklearn))\n"
   ]
  },
  {
   "cell_type": "code",
   "execution_count": 30,
   "metadata": {},
   "outputs": [],
   "source": [
    "from pandas import read_excel\n",
    "from pandas.plotting import scatter_matrix\n",
    "from matplotlib import pyplot as plt\n",
    "from sklearn.model_selection import train_test_split\n",
    "from sklearn.model_selection import cross_val_score\n",
    "from sklearn.model_selection import StratifiedKFold\n",
    "from sklearn.metrics import classification_report\n",
    "from sklearn.metrics import confusion_matrix\n",
    "from sklearn.metrics import accuracy_score\n",
    "from sklearn.linear_model import LogisticRegression\n",
    "from sklearn.tree import DecisionTreeClassifier\n",
    "from sklearn.neighbors import KNeighborsClassifier\n",
    "from sklearn.discriminant_analysis import LinearDiscriminantAnalysis\n",
    "from sklearn.naive_bayes import GaussianNB\n",
    "from sklearn.svm import SVC"
   ]
  },
  {
   "cell_type": "code",
   "execution_count": 10,
   "metadata": {},
   "outputs": [
    {
     "name": "stdout",
     "output_type": "stream",
     "text": [
      "   lam_max1      csc_max1  lam_min       csc_min  lam_fwhm1         c_mid  \\\n",
      "0       408  2.774638e-14      434  2.264798e-14        464  4.239645e-14   \n",
      "1       410  2.984472e-14      432  2.725996e-14        464  4.555423e-14   \n",
      "2       362  2.400898e-14      390  1.436011e-14        442  4.153600e-14   \n",
      "3       364  2.971955e-14      392  1.702803e-14        412  4.696978e-14   \n",
      "4       366  3.552294e-14      392  1.962838e-14        412  5.500586e-14   \n",
      "5       366  3.979963e-14      392  2.153163e-14        412  6.262032e-14   \n",
      "6       408  1.600910e-14      430  1.309086e-14        454  2.136122e-14   \n",
      "7       408  2.774638e-14      434  2.264798e-14        464  4.239645e-14   \n",
      "8       410  2.984472e-14      432  2.725996e-14        464  4.555423e-14   \n",
      "9       362  2.400898e-14      390  1.436011e-14        442  4.153600e-14   \n",
      "\n",
      "   lam_max2      csc_max2  lam_fwhm2  posisi1  posisi2  posisi3  posisi4  \\\n",
      "0       474  6.214492e-14        484        1        0        0        0   \n",
      "1       474  6.384849e-14        484        1        0        0        0   \n",
      "2       472  6.871189e-14        488        1        0        0        0   \n",
      "3       470  7.691152e-14        488        1        0        0        0   \n",
      "4       462  9.038334e-14        488        1        0        0        0   \n",
      "5       460  1.037090e-13        486        1        0        0        0   \n",
      "6       462  2.963157e-14        470        1        0        0        0   \n",
      "7       474  6.214492e-14        484        1        0        0        0   \n",
      "8       474  6.384849e-14        484        1        0        0        0   \n",
      "9       472  6.871189e-14        488        1        0        0        0   \n",
      "\n",
      "   posisi5  arah_k  arah_E  sb_putar  sudut1  sudut2  ket  \n",
      "0        0       1       2         1       0       0    0  \n",
      "1        0       1       2         1       1       5    0  \n",
      "2        0       1       2         1       3       0    0  \n",
      "3        0       1       2         1       4       5    0  \n",
      "4        0       1       2         1       6       0    0  \n",
      "5        0       1       2         1       7       5    0  \n",
      "6        0       1       2         1       9       0    0  \n",
      "7        0       1       2         3       0       0    0  \n",
      "8        0       1       2         3       1       5    0  \n",
      "9        0       1       2         3       3       0    0  \n"
     ]
    }
   ],
   "source": [
    "# Load dataset\n",
    "from pandas import read_excel\n",
    "\n",
    "url = \"D:\\\\Nazla_Innaya\\\\S2\\\\Kuliah\\\\Sem3\\\\Studi_Mandiri_II_FI6092\\\\1_5_bola\\\\1bola.xlsx\"\n",
    "names = ['lam_max1', 'csc_max1', 'lam_min', 'csc_min','lam_fwhm1','c_mid','lam_max2','csc_max2','lam_fwhm2','fwhm','posisi1','posisi2','posisi3','posisi4','posisi5','arah_k','arah_E','sb_putar','sudut1','sudut2','ket'] \n",
    "dataset = read_excel(url, names=names, header=None)\n",
    "\n",
    "print(dataset.head(10))"
   ]
  },
  {
   "cell_type": "code",
   "execution_count": 13,
   "metadata": {},
   "outputs": [
    {
     "name": "stdout",
     "output_type": "stream",
     "text": [
      "The scikit-learn version is 1.4.2.\n"
     ]
    }
   ],
   "source": [
    "import sklearn\n",
    "from sklearn.datasets import load_diabetes\n",
    "X, y = load_diabetes(return_X_y=True)\n",
    "\n",
    "print('The scikit-learn version is {}.'.format(sklearn.__version__))"
   ]
  },
  {
   "cell_type": "code",
   "execution_count": 15,
   "metadata": {},
   "outputs": [],
   "source": [
    "import matplotlib.pyplot as plt"
   ]
  },
  {
   "cell_type": "code",
   "execution_count": 3,
   "metadata": {},
   "outputs": [
    {
     "name": "stdout",
     "output_type": "stream",
     "text": [
      "(63, 20)\n",
      "    lam_max1      csc_max1  lam_min       csc_min  lam_fwhm1         c_mid  \\\n",
      "53       366  3.552294e-14      392  1.962838e-14        412  5.500586e-14   \n",
      "54       366  3.979963e-14      392  2.153163e-14        412  6.262032e-14   \n",
      "55       408  1.600910e-14      430  1.309086e-14        454  2.136122e-14   \n",
      "56       408  2.774638e-14      434  2.264798e-14        464  4.239645e-14   \n",
      "57       410  2.984472e-14      432  2.725996e-14        464  4.555423e-14   \n",
      "58       362  2.400898e-14      390  1.436011e-14        442  4.153600e-14   \n",
      "59       364  2.971955e-14      392  1.702803e-14        412  4.696978e-14   \n",
      "60       366  3.552294e-14      392  1.962838e-14        412  5.500586e-14   \n",
      "61       366  3.979963e-14      392  2.153163e-14        412  6.262032e-14   \n",
      "62       408  1.600910e-14      430  1.309086e-14        454  2.136122e-14   \n",
      "\n",
      "    lam_max2      csc_max2  lam_fwhm2  posisi1  posisi2  posisi3  posisi4  \\\n",
      "53       462  9.038334e-14        488        1        0        0        0   \n",
      "54       460  1.037090e-13        486        1        0        0        0   \n",
      "55       462  2.963157e-14        470        1        0        0        0   \n",
      "56       474  6.214492e-14        484        1        0        0        0   \n",
      "57       474  6.384849e-14        484        1        0        0        0   \n",
      "58       472  6.871189e-14        488        1        0        0        0   \n",
      "59       470  7.691152e-14        488        1        0        0        0   \n",
      "60       462  9.038334e-14        488        1        0        0        0   \n",
      "61       460  1.037090e-13        486        1        0        0        0   \n",
      "62       462  2.963157e-14        470        1        0        0        0   \n",
      "\n",
      "    posisi5  arah_k  arah_E  sb_putar  sudut1  sudut2  ket  \n",
      "53        0       3       2         2       6       0    0  \n",
      "54        0       3       2         2       7       5    0  \n",
      "55        0       3       2         2       9       0    0  \n",
      "56        0       3       2         3       0       0    0  \n",
      "57        0       3       2         3       1       5    0  \n",
      "58        0       3       2         3       3       0    0  \n",
      "59        0       3       2         3       4       5    0  \n",
      "60        0       3       2         3       6       0    0  \n",
      "61        0       3       2         3       7       5    0  \n",
      "62        0       3       2         3       9       0    0  \n"
     ]
    }
   ],
   "source": [
    "# Load dataset\n",
    "from pandas import read_excel\n",
    "\n",
    "url = \"D:\\\\Nazla_Innaya\\\\S2\\\\Kuliah\\\\Sem3\\\\Studi_Mandiri_II_FI6092\\\\1_5_bola\\\\1bola.xlsx\"\n",
    "names = ['lam_max1', 'csc_max1', 'lam_min', 'csc_min','lam_fwhm1','c_mid','lam_max2','csc_max2','lam_fwhm2','fwhm','posisi1','posisi2','posisi3','posisi4','posisi5','arah_k','arah_E','sb_putar','sudut1','sudut2','ket'] \n",
    "dataset = read_excel(url, names=names, header=None)\n",
    "\n",
    "#shape\n",
    "print(dataset.shape)\n",
    "\n",
    "#head\n",
    "print(dataset.tail(10))"
   ]
  },
  {
   "cell_type": "code",
   "execution_count": 9,
   "metadata": {},
   "outputs": [
    {
     "name": "stdout",
     "output_type": "stream",
     "text": [
      "ket\n",
      "2    63\n",
      "dtype: int64\n"
     ]
    }
   ],
   "source": [
    "# Load dataset\n",
    "from pandas import read_excel\n",
    "\n",
    "url = \"D:\\\\Nazla_Innaya\\\\S2\\\\Kuliah\\\\Sem3\\\\Studi_Mandiri_II_FI6092\\\\1_5_bola\\\\5bola.xlsx\"\n",
    "names = ['lam_max1', 'csc_max1', 'lam_min', 'csc_min','lam_fwhm1','c_mid','lam_max2','csc_max2','lam_fwhm2','fwhm','posisi1','posisi2','posisi3','posisi4','posisi5','arah_k','arah_E','sb_putar','sudut1','sudut2','ket'] \n",
    "dataset = read_excel(url, names=names, header=None)\n",
    "\n",
    "#descriptions\n",
    "#print(dataset.describe())\n",
    "\n",
    "#class distribution\n",
    "print(dataset.groupby('ket').size())\n"
   ]
  },
  {
   "cell_type": "code",
   "execution_count": 3,
   "metadata": {},
   "outputs": [
    {
     "data": {
      "image/png": "[encoded data removed]",
      "text/plain": [
       "<Figure size 640x480 with 25 Axes>"
      ]
     },
     "metadata": {},
     "output_type": "display_data"
    }
   ],
   "source": [
    "# Load dataset\n",
    "from pandas import read_excel\n",
    "\n",
    "url = \"D:\\\\Nazla_Innaya\\\\S2\\\\Kuliah\\\\Sem3\\\\Studi_Mandiri_II_FI6092\\\\1_5_bola\\\\1_5_bola.xlsx\"\n",
    "names = ['lam_max1', 'csc_max1', 'lam_min', 'csc_min','lam_fwhm1','c_mid','lam_max2','csc_max2','lam_fwhm2','fwhm','posisi1','posisi2','posisi3','posisi4','posisi5','arah_k','arah_E','sb_putar','sudut1','sudut2','ket'] \n",
    "dataset = read_excel(url, names=names, header=None)\n",
    "\n",
    "# Scatter plot matrix\n",
    "import matplotlib.pyplot as plt\n",
    "#scatter_matrix(dataset[['lam_max1', 'csc_max1', 'lam_min', 'csc_min','lam_fwhm1','c_mid','lam_max2','csc_max2','lam_fwhm2','ket']])\n",
    "scatter_matrix(dataset[['lam_max1', 'lam_fwhm1','lam_max2','lam_fwhm2','ket']])\n",
    "plt.show()"
   ]
  },
  {
   "cell_type": "code",
   "execution_count": 4,
   "metadata": {},
   "outputs": [
    {
     "name": "stdout",
     "output_type": "stream",
     "text": [
      "ket\n",
      "0    504\n",
      "1    567\n",
      "2    630\n",
      "dtype: int64\n"
     ]
    },
    {
     "data": {
      "image/png": "[encoded data removed]",
      "text/plain": [
       "<Figure size 640x480 with 16 Axes>"
      ]
     },
     "metadata": {},
     "output_type": "display_data"
    }
   ],
   "source": [
    "# Load dataset\n",
    "from pandas import read_excel\n",
    "\n",
    "url = \"D:\\\\Nazla_Innaya\\\\S2\\\\Kuliah\\\\Sem3\\\\Studi_Mandiri_II_FI6092\\\\1_5_bola\\\\1_5_bola.xlsx\"\n",
    "names = ['lam_max1', 'csc_max1', 'lam_min', 'csc_min','lam_fwhm1','c_mid','lam_max2','csc_max2','lam_fwhm2','fwhm','posisi1','posisi2','posisi3','posisi4','posisi5','arah_k','arah_E','sb_putar','sudut1','sudut2','ket'] \n",
    "dataset = read_excel(url, names=names, header=None)\n",
    "\n",
    "#fwhm = lam_fwhm2 - lam_fwhm1\n",
    "\n",
    "#class distribution\n",
    "print(dataset.groupby('ket').size())\n",
    "\n",
    "# Scatter plot matrix\n",
    "import matplotlib.pyplot as plt\n",
    "#scatter_matrix(dataset[['lam_max1', 'csc_max1', 'lam_min', 'csc_min','lam_fwhm1','c_mid','lam_max2','csc_max2','lam_fwhm2','ket']])\n",
    "scatter_matrix(dataset[['lam_max1','lam_max2','fwhm','ket']])\n",
    "plt.show()"
   ]
  },
  {
   "cell_type": "code",
   "execution_count": 7,
   "metadata": {},
   "outputs": [
    {
     "name": "stdout",
     "output_type": "stream",
     "text": [
      "   lam_max1      csc_max1  lam_min       csc_min  lam_fwhm1         c_mid  \\\n",
      "0       408  2.774638e-14      434  2.264798e-14        464  4.239645e-14   \n",
      "1       410  2.984472e-14      432  2.725996e-14        464  4.555423e-14   \n",
      "2       362  2.400898e-14      390  1.436011e-14        442  4.153600e-14   \n",
      "3       364  2.971955e-14      392  1.702803e-14        412  4.696978e-14   \n",
      "4       366  3.552294e-14      392  1.962838e-14        412  5.500586e-14   \n",
      "\n",
      "   lam_max2      csc_max2  lam_fwhm2  fwhm  ...  posisi2  posisi3  posisi4  \\\n",
      "0       474  6.214492e-14        484    20  ...        0        0        0   \n",
      "1       474  6.384849e-14        484    20  ...        0        0        0   \n",
      "2       472  6.871189e-14        488    46  ...        0        0        0   \n",
      "3       470  7.691152e-14        488    76  ...        0        0        0   \n",
      "4       462  9.038334e-14        488    76  ...        0        0        0   \n",
      "\n",
      "   posisi5  arah_k  arah_E  sb_putar  sudut1  sudut2  ket  \n",
      "0        0       1       2         1       0       0    0  \n",
      "1        0       1       2         1       1       5    0  \n",
      "2        0       1       2         1       3       0    0  \n",
      "3        0       1       2         1       4       5    0  \n",
      "4        0       1       2         1       6       0    0  \n",
      "\n",
      "[5 rows x 21 columns]\n",
      "\n",
      "[[4.08000000e+02 2.77463820e-14 4.34000000e+02 2.26479766e-14]\n",
      " [4.10000000e+02 2.98447223e-14 4.32000000e+02 2.72599618e-14]\n",
      " [3.62000000e+02 2.40089764e-14 3.90000000e+02 1.43601146e-14]\n",
      " [3.64000000e+02 2.97195528e-14 3.92000000e+02 1.70280287e-14]\n",
      " [3.66000000e+02 3.55229449e-14 3.92000000e+02 1.96283803e-14]]\n",
      "\n",
      "[464 464 442 412 412]\n"
     ]
    }
   ],
   "source": [
    "# Load dataset\n",
    "from pandas import read_excel\n",
    "\n",
    "url = \"D:\\\\Nazla_Innaya\\\\S2\\\\Kuliah\\\\Sem3\\\\Studi_Mandiri_II_FI6092\\\\1_5_bola\\\\1_5_bola.xlsx\"\n",
    "names = ['lam_max1', 'csc_max1', 'lam_min', 'csc_min','lam_fwhm1','c_mid','lam_max2','csc_max2','lam_fwhm2','fwhm','posisi1','posisi2','posisi3','posisi4','posisi5','arah_k','arah_E','sb_putar','sudut1','sudut2','ket'] \n",
    "dataset = read_excel(url, names=names, header=None)\n",
    "\n",
    "array = dataset\n",
    "print(array[:5])\n",
    "print()\n",
    "\n",
    "X = array.iloc[:,0:4].values\n",
    "print(X[:5])\n",
    "print()\n",
    "\n",
    "y = array.iloc[:,4].values\n",
    "print(y[:5])"
   ]
  },
  {
   "cell_type": "code",
   "execution_count": 32,
   "metadata": {},
   "outputs": [
    {
     "name": "stdout",
     "output_type": "stream",
     "text": [
      "850\n",
      "851\n",
      "0.5002939447383892\n"
     ]
    }
   ],
   "source": [
    "# Split-out validation dataset\n",
    "array = dataset\n",
    "X = array.iloc[:,0:10].values\n",
    "y = array.iloc[:,20].values\n",
    "X_train, X_validation, Y_train, Y_validation = train_test_split(\n",
    "    X, y, test_size=0.50,\n",
    "    random_state=1\n",
    ")\n",
    "\n",
    "print(len(Y_train))\n",
    "print(len(Y_validation))\n",
    "print(len(Y_validation)/(len(Y_train) + len(Y_validation)))\n",
    "                                                                "
   ]
  },
  {
   "cell_type": "code",
   "execution_count": 33,
   "metadata": {},
   "outputs": [
    {
     "name": "stdout",
     "output_type": "stream",
     "text": [
      "LR: 0.643529 (0.008235)\n",
      "LDA: 0.765882 (0.012941)\n",
      "KNN: 0.907059 (0.010588)\n",
      "CART: 0.934118 (0.004706)\n",
      "NB: 0.550588 (0.018824)\n",
      "SVM: 0.918824 (0.010588)\n"
     ]
    }
   ],
   "source": [
    "# Spot check algorithms\n",
    "models = []\n",
    "models.append(('LR', LogisticRegression(solver='liblinear', multi_class='ovr')))\n",
    "models.append(('LDA', LinearDiscriminantAnalysis()))\n",
    "models.append(('KNN', KNeighborsClassifier()))\n",
    "models.append(('CART', DecisionTreeClassifier()))\n",
    "models.append(('NB', GaussianNB()))\n",
    "models.append(('SVM', SVC(gamma='auto')))\n",
    "\n",
    "#evaluate each model in turn\n",
    "results = []\n",
    "names = []\n",
    "for name, model in models:\n",
    "    kfold = StratifiedKFold(n_splits=2, random_state=1, shuffle=True)\n",
    "    cv_results = cross_val_score(model, X_train, Y_train, cv=kfold, scoring='accuracy')\n",
    "    results.append(cv_results)\n",
    "    names.append(name)\n",
    "    print('%s: %f (%f)' % (name, cv_results.mean(), cv_results.std()))\n",
    "    \n"
   ]
  },
  {
   "cell_type": "code",
   "execution_count": 34,
   "metadata": {},
   "outputs": [
    {
     "data": {
      "image/png": "[encoded data removed]",
      "text/plain": [
       "<Figure size 640x480 with 1 Axes>"
      ]
     },
     "metadata": {},
     "output_type": "display_data"
    }
   ],
   "source": [
    "# Compare Algorithms\n",
    "plt.boxplot(results, labels=names)\n",
    "plt.title('Algorithm Comparison')\n",
    "plt.show()"
   ]
  },
  {
   "cell_type": "code",
   "execution_count": 36,
   "metadata": {},
   "outputs": [],
   "source": [
    "# Make predictions on validation dataset\n",
    "model = SVC(gamma='auto')\n",
    "model.fit(X_train, Y_train)\n",
    "predictions = model.predict(X_validation)"
   ]
  },
  {
   "cell_type": "code",
   "execution_count": 24,
   "metadata": {},
   "outputs": [
    {
     "name": "stdout",
     "output_type": "stream",
     "text": [
      "[1 2 1 2 0 0 0 0 1 2 0 2 1 0 2 1 1 1 0 0 0 2 1 1 0 1 2 2 1 0 2 0 2 2 2 0 1\n",
      " 0 2 1 0 2 1 1 1 2 2 2 1 0 2 1 0 2 1 2 2 1 0 0 2 2 2 0 0 2 0 1 2 0 2 2 2 2\n",
      " 1 1 2 1 1 2 2 0 1 0 0 1 1 2 1 2 0 0 1 1 1 0 0 2 2 0 0 1 1 1 0 1 1 1 1 1 2\n",
      " 1 2 0 1 2 1 0 2 1 1 0 0 1 1 2 0 2 1 0 0 1 0 1 1 2 0 0 2 2 2 0 0 0 1 2 2 1\n",
      " 2 1 2 0 1 1 0 1 1 1 0 0 1 0 1 1 0 1 0 1 1 0 1 2 2 2 0 0 1 1 0 1 0 0 1 2 2\n",
      " 2 1 1 1 1 2 2 0 2 0 0 0 1 1 2 1 1 0 1 2 1 1 2 2 2 2 2 1 0 1 2 2 1 0 1 0 0\n",
      " 0 2 0 1 2 1 1 1 2 1 1 0 2 0 0 1 2 0 1 1 2 0 1 2 1 2 1 2 2 0 0 0 1 0 0 2 0\n",
      " 0 1 0 1 0 1 0 2 0 2 0 2 2 2 1 2 1 2 0 0 2 1 1 1 0 2 1 1 1 1 1 0 2 0 2 2 2\n",
      " 1 0 2 2 0 2 2 1 0 2 0 1 1 0 0 2 1 1 0 1 1 1 0 2 1 2 0 0 2 2 1 2 1 2 1 0 2\n",
      " 1 2 0 0 2 1 2 2]\n"
     ]
    }
   ],
   "source": [
    "print(Y_validation)"
   ]
  },
  {
   "cell_type": "code",
   "execution_count": 25,
   "metadata": {},
   "outputs": [
    {
     "name": "stdout",
     "output_type": "stream",
     "text": [
      "[1 2 1 2 0 0 0 0 1 2 0 2 1 0 2 1 1 1 0 0 0 2 1 1 0 1 2 2 1 2 2 0 2 2 2 0 1\n",
      " 0 2 1 0 2 1 1 1 0 2 2 1 0 2 1 0 2 1 2 2 1 0 0 2 2 2 0 0 2 0 1 2 0 2 2 2 2\n",
      " 1 1 2 1 1 2 2 0 1 0 0 1 1 2 1 2 0 0 1 1 1 0 0 2 2 0 2 1 1 1 0 1 1 1 1 1 2\n",
      " 1 2 0 1 2 1 2 2 1 1 0 0 1 1 2 2 2 1 0 0 1 0 1 1 2 0 0 2 2 2 0 0 0 1 2 2 1\n",
      " 2 1 2 0 1 1 0 1 1 1 0 0 1 0 1 1 0 1 0 1 1 0 1 2 2 2 0 0 1 1 2 1 0 0 1 2 2\n",
      " 2 1 1 1 1 2 2 2 2 0 0 0 1 1 2 1 1 2 1 2 1 1 2 2 2 2 2 1 0 1 2 2 1 0 1 0 0\n",
      " 0 2 0 1 2 1 1 1 2 1 1 2 2 0 0 1 2 0 1 1 2 0 1 2 1 2 1 2 2 0 0 0 1 0 0 2 0\n",
      " 0 1 2 1 2 1 0 2 0 2 0 2 2 2 1 2 1 2 0 0 2 1 1 1 0 2 1 1 1 1 1 0 2 0 2 2 2\n",
      " 1 2 2 2 0 2 2 1 0 2 2 1 1 2 0 2 1 1 0 1 1 1 2 2 1 2 0 0 2 2 1 2 1 2 1 0 2\n",
      " 1 2 0 0 2 1 2 2]\n"
     ]
    }
   ],
   "source": [
    "print(predictions)"
   ]
  },
  {
   "cell_type": "code",
   "execution_count": 37,
   "metadata": {},
   "outputs": [
    {
     "name": "stdout",
     "output_type": "stream",
     "text": [
      "accurancy =  0.9341950646298472\n",
      "\n",
      "confusion matrix =\n",
      " [[220   0  37]\n",
      " [  0 277  12]\n",
      " [  7   0 298]]\n",
      "\n",
      "report = \n",
      "               precision    recall  f1-score   support\n",
      "\n",
      "           0       0.97      0.86      0.91       257\n",
      "           1       1.00      0.96      0.98       289\n",
      "           2       0.86      0.98      0.91       305\n",
      "\n",
      "    accuracy                           0.93       851\n",
      "   macro avg       0.94      0.93      0.93       851\n",
      "weighted avg       0.94      0.93      0.93       851\n",
      "\n"
     ]
    }
   ],
   "source": [
    "# Evaluate predictions using SVC\n",
    "print(\"accurancy = \",\n",
    "     accuracy_score(\n",
    "         Y_validation, predictions))\n",
    "cf = confusion_matrix(Y_validation, predictions)\n",
    "print(\"\\nconfusion matrix =\\n\", cf)\n",
    "\n",
    "print(\"\\nreport = \\n\", \n",
    "     classification_report(\n",
    "         Y_validation, predictions))"
   ]
  },
  {
   "cell_type": "code",
   "execution_count": 38,
   "metadata": {},
   "outputs": [
    {
     "name": "stdout",
     "output_type": "stream",
     "text": [
      "accurancy =  0.5851938895417156\n",
      "\n",
      "confusion matrix =\n",
      " [[214  25  18]\n",
      " [ 81 100 108]\n",
      " [ 47  74 184]]\n",
      "\n",
      "report = \n",
      "               precision    recall  f1-score   support\n",
      "\n",
      "           0       0.63      0.83      0.71       257\n",
      "           1       0.50      0.35      0.41       289\n",
      "           2       0.59      0.60      0.60       305\n",
      "\n",
      "    accuracy                           0.59       851\n",
      "   macro avg       0.57      0.59      0.57       851\n",
      "weighted avg       0.57      0.59      0.57       851\n",
      "\n"
     ]
    }
   ],
   "source": [
    "# Make predictions using LR\n",
    "model = LogisticRegression(solver='liblinear', multi_class='ovr')\n",
    "model.fit(X_train, Y_train)\n",
    "predictions = model.predict(X_validation)\n",
    "\n",
    "# Evaluate predictions\n",
    "print(\"accurancy = \",\n",
    "     accuracy_score(\n",
    "         Y_validation, predictions))\n",
    "print(\"\\nconfusion matrix =\\n\",\n",
    "     confusion_matrix(\n",
    "         Y_validation, predictions))\n",
    "print(\"\\nreport = \\n\", \n",
    "     classification_report(\n",
    "         Y_validation, predictions))"
   ]
  },
  {
   "cell_type": "code",
   "execution_count": null,
   "metadata": {},
   "outputs": [],
   "source": [
    "# Make predictions using LDA\n",
    "model = LinearDiscriminantAnalysis()\n",
    "model.fit(X_train, Y_train)\n",
    "predictions = model.predict(X_validation)\n",
    "\n",
    "# Evaluate predictions\n",
    "print(\"accurancy = \",\n",
    "     accuracy_score(\n",
    "         Y_validation, predictions))\n",
    "print(\"\\nconfusion matrix =\\n\",\n",
    "     ConfusionMatrixDisplay(\n",
    "         Y_validation, predictions, model.classes_))\n",
    "print(\"\\nreport = \\n\", \n",
    "     classification_report(\n",
    "         Y_validation, predictions))"
   ]
  },
  {
   "cell_type": "code",
   "execution_count": null,
   "metadata": {},
   "outputs": [],
   "source": [
    "# Make predictions using KNN\n",
    "model = KNeighborsClassifier()\n",
    "model.fit(X_train, Y_train)\n",
    "predictions = model.predict(X_validation)\n",
    "\n",
    "# Evaluate predictions\n",
    "print(\"accurancy = \",\n",
    "     accuracy_score(\n",
    "         Y_validation, predictions))\n",
    "print(\"\\nconfusion matrix =\\n\",\n",
    "     ConfusionMatrixDisplay(\n",
    "         Y_validation, predictions, model.classes_))\n",
    "print(\"\\nreport = \\n\", \n",
    "     classification_report(\n",
    "         Y_validation, predictions))"
   ]
  },
  {
   "cell_type": "code",
   "execution_count": null,
   "metadata": {},
   "outputs": [],
   "source": [
    "# Make predictions using CART\n",
    "model = DecisionTreeClassifier()\n",
    "model.fit(X_train, Y_train)\n",
    "predictions = model.predict(X_validation)\n",
    "\n",
    "# Evaluate predictions\n",
    "print(\"accurancy = \",\n",
    "     accuracy_score(\n",
    "         Y_validation, predictions))\n",
    "print(\"\\nconfusion matrix =\\n\",\n",
    "     ConfusionMatrixDisplay(\n",
    "         Y_validation, predictions, model.classes_))\n",
    "print(\"\\nreport = \\n\", \n",
    "     classification_report(\n",
    "         Y_validation, predictions))"
   ]
  },
  {
   "cell_type": "code",
   "execution_count": 28,
   "metadata": {},
   "outputs": [
    {
     "name": "stdout",
     "output_type": "stream",
     "text": [
      "accurancy =  0.21994134897360704\n"
     ]
    },
    {
     "ename": "TypeError",
     "evalue": "ConfusionMatrixDisplay.__init__() takes 2 positional arguments but 4 were given",
     "output_type": "error",
     "traceback": [
      "\u001b[1;31m---------------------------------------------------------------------------\u001b[0m",
      "\u001b[1;31mTypeError\u001b[0m                                 Traceback (most recent call last)",
      "Cell \u001b[1;32mIn[28], line 11\u001b[0m\n\u001b[0;32m      6\u001b[0m \u001b[38;5;66;03m# Evaluate predictions\u001b[39;00m\n\u001b[0;32m      7\u001b[0m \u001b[38;5;28mprint\u001b[39m(\u001b[38;5;124m\"\u001b[39m\u001b[38;5;124maccurancy = \u001b[39m\u001b[38;5;124m\"\u001b[39m,\n\u001b[0;32m      8\u001b[0m      accuracy_score(\n\u001b[0;32m      9\u001b[0m          Y_validation, predictions))\n\u001b[0;32m     10\u001b[0m \u001b[38;5;28mprint\u001b[39m(\u001b[38;5;124m\"\u001b[39m\u001b[38;5;130;01m\\n\u001b[39;00m\u001b[38;5;124mconfusion matrix =\u001b[39m\u001b[38;5;130;01m\\n\u001b[39;00m\u001b[38;5;124m\"\u001b[39m,\n\u001b[1;32m---> 11\u001b[0m      \u001b[43mConfusionMatrixDisplay\u001b[49m\u001b[43m(\u001b[49m\n\u001b[0;32m     12\u001b[0m \u001b[43m         \u001b[49m\u001b[43mY_validation\u001b[49m\u001b[43m,\u001b[49m\u001b[43m \u001b[49m\u001b[43mpredictions\u001b[49m\u001b[43m,\u001b[49m\u001b[43m \u001b[49m\u001b[43mmodel\u001b[49m\u001b[38;5;241;43m.\u001b[39;49m\u001b[43mclasses_\u001b[49m\u001b[43m)\u001b[49m)\n\u001b[0;32m     13\u001b[0m \u001b[38;5;28mprint\u001b[39m(\u001b[38;5;124m\"\u001b[39m\u001b[38;5;130;01m\\n\u001b[39;00m\u001b[38;5;124mreport = \u001b[39m\u001b[38;5;130;01m\\n\u001b[39;00m\u001b[38;5;124m\"\u001b[39m, \n\u001b[0;32m     14\u001b[0m      classification_report(\n\u001b[0;32m     15\u001b[0m          Y_validation, predictions))\n",
      "\u001b[1;31mTypeError\u001b[0m: ConfusionMatrixDisplay.__init__() takes 2 positional arguments but 4 were given"
     ]
    }
   ],
   "source": [
    "# Make predictions using NB\n",
    "model = GaussianNB()\n",
    "model.fit(X_train, Y_train)\n",
    "predictions = model.predict(X_validation)\n",
    "\n",
    "# Evaluate predictions\n",
    "print(\"accurancy = \",\n",
    "     accuracy_score(\n",
    "         Y_validation, predictions))\n",
    "print(\"\\nconfusion matrix =\\n\",\n",
    "     ConfusionMatrixDisplay(\n",
    "         Y_validation, predictions, model.classes_))\n",
    "print(\"\\nreport = \\n\", \n",
    "     classification_report(\n",
    "         Y_validation, predictions))"
   ]
  },
  {
   "cell_type": "code",
   "execution_count": null,
   "metadata": {},
   "outputs": [],
   "source": []
  }
 ],
 "metadata": {
  "kernelspec": {
   "display_name": "Python 3 (ipykernel)",
   "language": "python",
   "name": "python3"
  },
  "language_info": {
   "codemirror_mode": {
    "name": "ipython",
    "version": 3
   },
   "file_extension": ".py",
   "mimetype": "text/x-python",
   "name": "python",
   "nbconvert_exporter": "python",
   "pygments_lexer": "ipython3",
   "version": "3.12.3"
  }
 },
 "nbformat": 4,
 "nbformat_minor": 4
}
